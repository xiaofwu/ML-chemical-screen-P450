{
 "cells": [
  {
   "cell_type": "markdown",
   "id": "8811d6bd",
   "metadata": {},
   "source": [
    "# **<font color='red'>Define the project</font>**\n"
   ]
  },
  {
   "attachments": {},
   "cell_type": "markdown",
   "id": "83ac455c",
   "metadata": {},
   "source": [
    "## Problem\n",
    "* Cancer is the second leading cause of death in the USA. \n",
    "<br>\n",
    "* Cancers can originate from different organs and exhibit various subtypes.\n",
    "<br>\n",
    "* It is vital to constantly develop new biomarkers for cancer diagnosis and drugs for cancer treatment.\n"
   ]
  },
  {
   "attachments": {},
   "cell_type": "markdown",
   "id": "67a3d540",
   "metadata": {},
   "source": [
    "## Proposal\n",
    "<font size=5>To address the issues described above, we used machine learning aided strategy to speed up drug screen and optimization. By building such model, we will have benefits as described below:</font>\n",
    "\n",
    "* It greatly speed up the process on drug discovery and optimization.   \n",
    "<br>\n",
    "* It greatly decreased the cost.   \n",
    "<br>\n",
    "* Model generated can be used to predict activity of new chemicals.   \n",
    "<br>\n",
    "* Insights from studing important features for the model direct drug optimization  \n"
   ]
  },
  {
   "attachments": {},
   "cell_type": "markdown",
   "id": "81bf2a09",
   "metadata": {},
   "source": [
    "## Solution\n",
    "\n",
    "<font size=4>To acheive the goal, we executed the project in 3 steps:\n",
    "\n",
    "* First, we \n",
    "We will try several models with different algorithms for a model with good performance on both accuracy and interpretability."
   ]
  },
  {
   "attachments": {},
   "cell_type": "markdown",
   "id": "4237649f",
   "metadata": {},
   "source": [
    "## Process\n",
    "\n",
    "<font size=5>We are goind to process data and build a machine learning model as outlined below: \n",
    "\n",
    "#### 1.  Data cleaning\n",
    "#### 2.  EDA and \n",
    "#### 3.  Feature engineering\n",
    "#### 4.  Modeling selection\n",
    "#### 6.  Final model \n",
    "#### 7.  Model interpretation (feature importance and insights)"
   ]
  },
  {
   "cell_type": "code",
   "execution_count": 39,
   "id": "fbd679e1",
   "metadata": {},
   "outputs": [],
   "source": [
    "import numpy as np\n",
    "import pandas as pd\n",
    "import pubchempy as pcp\n",
    "import matplotlib.pylab as plt\n",
    "%matplotlib inline\n",
    "import seaborn as sns"
   ]
  },
  {
   "cell_type": "code",
   "execution_count": 40,
   "id": "c63a8b9e",
   "metadata": {},
   "outputs": [],
   "source": [
    "from rdkit import Chem\n",
    "from rdkit.Chem import PandasTools\n",
    "from rdkit.Chem import AllChem\n",
    "from rdkit.Chem import DataStructs\n",
    "from rdkit.Chem import RDConfig\n",
    "from rdkit.Chem.AllChem import GetMorganFingerprintAsBitVect\n",
    "from rdkit.DataStructs.cDataStructs import ConvertToNumpyArray"
   ]
  },
  {
   "attachments": {},
   "cell_type": "markdown",
   "id": "e538aa88",
   "metadata": {},
   "source": [
    "## 1. Data import and cleaning"
   ]
  },
  {
   "cell_type": "code",
   "execution_count": 38,
   "id": "8f993f4f",
   "metadata": {
    "scrolled": true
   },
   "outputs": [
    {
     "data": {
      "text/html": [
       "<div>\n",
       "<style scoped>\n",
       "    .dataframe tbody tr th:only-of-type {\n",
       "        vertical-align: middle;\n",
       "    }\n",
       "\n",
       "    .dataframe tbody tr th {\n",
       "        vertical-align: top;\n",
       "    }\n",
       "\n",
       "    .dataframe thead th {\n",
       "        text-align: right;\n",
       "    }\n",
       "</style>\n",
       "<table border=\"1\" class=\"dataframe\">\n",
       "  <thead>\n",
       "    <tr style=\"text-align: right;\">\n",
       "      <th></th>\n",
       "      <th>Pubchem_SID</th>\n",
       "      <th>Pubchem_CID</th>\n",
       "      <th>SMILES</th>\n",
       "      <th>Activity_Outcome</th>\n",
       "    </tr>\n",
       "  </thead>\n",
       "  <tbody>\n",
       "    <tr>\n",
       "      <th>0</th>\n",
       "      <td>842618</td>\n",
       "      <td>644890.00</td>\n",
       "      <td>CC(C)(C)N1C(=NN=N1)C(C2=CC=CC=C2OC)N3CCN(CC3)C...</td>\n",
       "      <td>Active</td>\n",
       "    </tr>\n",
       "    <tr>\n",
       "      <th>1</th>\n",
       "      <td>842953</td>\n",
       "      <td>6602688.00</td>\n",
       "      <td>C1COCCN1CCN2C3=CC=CC=C3N(C2=N)CC(=O)C4=CC(=C(C...</td>\n",
       "      <td>Active</td>\n",
       "    </tr>\n",
       "    <tr>\n",
       "      <th>2</th>\n",
       "      <td>843526</td>\n",
       "      <td>645818.00</td>\n",
       "      <td>COC1=CC=CC2=C1NC=C(C2=O)C(=O)NCC3=CC=CS3</td>\n",
       "      <td>Active</td>\n",
       "    </tr>\n",
       "    <tr>\n",
       "      <th>3</th>\n",
       "      <td>843662</td>\n",
       "      <td>645965.00</td>\n",
       "      <td>CC1CC2=CC=CC=C2N1C(=O)CN3CCC(CC3)N4C5=C(C=C(C=...</td>\n",
       "      <td>Active</td>\n",
       "    </tr>\n",
       "    <tr>\n",
       "      <th>4</th>\n",
       "      <td>844085</td>\n",
       "      <td>646395.00</td>\n",
       "      <td>CCSC1=C(C2(CCCCC2)C(=C(N1)N)C#N)C#N</td>\n",
       "      <td>Active</td>\n",
       "    </tr>\n",
       "    <tr>\n",
       "      <th>...</th>\n",
       "      <td>...</td>\n",
       "      <td>...</td>\n",
       "      <td>...</td>\n",
       "      <td>...</td>\n",
       "    </tr>\n",
       "    <tr>\n",
       "      <th>13905</th>\n",
       "      <td>26751437</td>\n",
       "      <td>16758815.00</td>\n",
       "      <td>C=CC1=C[C@H]([C@H]2[C@@H](C13OCCCO3)O2)O</td>\n",
       "      <td>Inactive</td>\n",
       "    </tr>\n",
       "    <tr>\n",
       "      <th>13906</th>\n",
       "      <td>26751438</td>\n",
       "      <td>16758816.00</td>\n",
       "      <td>C1COC2([C@@H]3[C@H](O3)[C@H]([C@@H]4C2=CC[C@H]...</td>\n",
       "      <td>Inactive</td>\n",
       "    </tr>\n",
       "    <tr>\n",
       "      <th>13907</th>\n",
       "      <td>26751439</td>\n",
       "      <td>16758817.00</td>\n",
       "      <td>CCN1C(=O)[C@H]2CC=C3[C@H]([C@H]2C1=O)[C@@H]([C...</td>\n",
       "      <td>Inactive</td>\n",
       "    </tr>\n",
       "    <tr>\n",
       "      <th>13908</th>\n",
       "      <td>26751440</td>\n",
       "      <td>16758818.00</td>\n",
       "      <td>C[C@H](C1=CC=CC=C1)N2C(=O)[C@@H]3CC[C@H]4[C@H]...</td>\n",
       "      <td>Inactive</td>\n",
       "    </tr>\n",
       "    <tr>\n",
       "      <th>13909</th>\n",
       "      <td>26751441</td>\n",
       "      <td>10847630.00</td>\n",
       "      <td>COC(=O)NC/C=C\\C1=NC(=CO1)CCCO</td>\n",
       "      <td>Inactive</td>\n",
       "    </tr>\n",
       "  </tbody>\n",
       "</table>\n",
       "<p>13910 rows × 4 columns</p>\n",
       "</div>"
      ],
      "text/plain": [
       "       Pubchem_SID  Pubchem_CID  \\\n",
       "0           842618    644890.00   \n",
       "1           842953   6602688.00   \n",
       "2           843526    645818.00   \n",
       "3           843662    645965.00   \n",
       "4           844085    646395.00   \n",
       "...            ...          ...   \n",
       "13905     26751437  16758815.00   \n",
       "13906     26751438  16758816.00   \n",
       "13907     26751439  16758817.00   \n",
       "13908     26751440  16758818.00   \n",
       "13909     26751441  10847630.00   \n",
       "\n",
       "                                                  SMILES Activity_Outcome  \n",
       "0      CC(C)(C)N1C(=NN=N1)C(C2=CC=CC=C2OC)N3CCN(CC3)C...           Active  \n",
       "1      C1COCCN1CCN2C3=CC=CC=C3N(C2=N)CC(=O)C4=CC(=C(C...           Active  \n",
       "2               COC1=CC=CC2=C1NC=C(C2=O)C(=O)NCC3=CC=CS3           Active  \n",
       "3      CC1CC2=CC=CC=C2N1C(=O)CN3CCC(CC3)N4C5=C(C=C(C=...           Active  \n",
       "4                    CCSC1=C(C2(CCCCC2)C(=C(N1)N)C#N)C#N           Active  \n",
       "...                                                  ...              ...  \n",
       "13905           C=CC1=C[C@H]([C@H]2[C@@H](C13OCCCO3)O2)O         Inactive  \n",
       "13906  C1COC2([C@@H]3[C@H](O3)[C@H]([C@@H]4C2=CC[C@H]...         Inactive  \n",
       "13907  CCN1C(=O)[C@H]2CC=C3[C@H]([C@H]2C1=O)[C@@H]([C...         Inactive  \n",
       "13908  C[C@H](C1=CC=CC=C1)N2C(=O)[C@@H]3CC[C@H]4[C@H]...         Inactive  \n",
       "13909                      COC(=O)NC/C=C\\C1=NC(=CO1)CCCO         Inactive  \n",
       "\n",
       "[13910 rows x 4 columns]"
      ]
     },
     "execution_count": 38,
     "metadata": {},
     "output_type": "execute_result"
    }
   ],
   "source": [
    "df = pd.read_csv('P450_2d6_binary.csv')\n",
    "df"
   ]
  },
  {
   "cell_type": "code",
   "execution_count": 6,
   "id": "188b7adf",
   "metadata": {
    "scrolled": true
   },
   "outputs": [
    {
     "data": {
      "text/plain": [
       "Pubchem_SID          0\n",
       "Pubchem_CID         14\n",
       "SMILES              14\n",
       "Activity_Outcome     0\n",
       "dtype: int64"
      ]
     },
     "execution_count": 6,
     "metadata": {},
     "output_type": "execute_result"
    }
   ],
   "source": [
    "df.isna().sum()"
   ]
  },
  {
   "cell_type": "code",
   "execution_count": 7,
   "id": "025efa86",
   "metadata": {
    "scrolled": false
   },
   "outputs": [
    {
     "data": {
      "text/plain": [
       "Pubchem_SID         0\n",
       "Pubchem_CID         0\n",
       "SMILES              0\n",
       "Activity_Outcome    0\n",
       "dtype: int64"
      ]
     },
     "execution_count": 7,
     "metadata": {},
     "output_type": "execute_result"
    }
   ],
   "source": [
    "df.dropna(inplace=True)\n",
    "df.isna().sum()"
   ]
  },
  {
   "cell_type": "code",
   "execution_count": 8,
   "id": "aafa1963",
   "metadata": {
    "scrolled": true
   },
   "outputs": [
    {
     "data": {
      "text/html": [
       "<div>\n",
       "<style scoped>\n",
       "    .dataframe tbody tr th:only-of-type {\n",
       "        vertical-align: middle;\n",
       "    }\n",
       "\n",
       "    .dataframe tbody tr th {\n",
       "        vertical-align: top;\n",
       "    }\n",
       "\n",
       "    .dataframe thead th {\n",
       "        text-align: right;\n",
       "    }\n",
       "</style>\n",
       "<table border=\"1\" class=\"dataframe\">\n",
       "  <thead>\n",
       "    <tr style=\"text-align: right;\">\n",
       "      <th></th>\n",
       "      <th>Pubchem_SID</th>\n",
       "      <th>Pubchem_CID</th>\n",
       "      <th>SMILES</th>\n",
       "      <th>Activity_Outcome</th>\n",
       "    </tr>\n",
       "  </thead>\n",
       "  <tbody>\n",
       "    <tr>\n",
       "      <th>0</th>\n",
       "      <td>842618</td>\n",
       "      <td>644890.0</td>\n",
       "      <td>CC(C)(C)N1C(=NN=N1)C(C2=CC=CC=C2OC)N3CCN(CC3)C...</td>\n",
       "      <td>Active</td>\n",
       "    </tr>\n",
       "    <tr>\n",
       "      <th>1</th>\n",
       "      <td>842953</td>\n",
       "      <td>6602688.0</td>\n",
       "      <td>C1COCCN1CCN2C3=CC=CC=C3N(C2=N)CC(=O)C4=CC(=C(C...</td>\n",
       "      <td>Active</td>\n",
       "    </tr>\n",
       "    <tr>\n",
       "      <th>2</th>\n",
       "      <td>843526</td>\n",
       "      <td>645818.0</td>\n",
       "      <td>COC1=CC=CC2=C1NC=C(C2=O)C(=O)NCC3=CC=CS3</td>\n",
       "      <td>Active</td>\n",
       "    </tr>\n",
       "    <tr>\n",
       "      <th>3</th>\n",
       "      <td>843662</td>\n",
       "      <td>645965.0</td>\n",
       "      <td>CC1CC2=CC=CC=C2N1C(=O)CN3CCC(CC3)N4C5=C(C=C(C=...</td>\n",
       "      <td>Active</td>\n",
       "    </tr>\n",
       "    <tr>\n",
       "      <th>4</th>\n",
       "      <td>844085</td>\n",
       "      <td>646395.0</td>\n",
       "      <td>CCSC1=C(C2(CCCCC2)C(=C(N1)N)C#N)C#N</td>\n",
       "      <td>Active</td>\n",
       "    </tr>\n",
       "    <tr>\n",
       "      <th>...</th>\n",
       "      <td>...</td>\n",
       "      <td>...</td>\n",
       "      <td>...</td>\n",
       "      <td>...</td>\n",
       "    </tr>\n",
       "    <tr>\n",
       "      <th>13905</th>\n",
       "      <td>26751437</td>\n",
       "      <td>16758815.0</td>\n",
       "      <td>C=CC1=C[C@H]([C@H]2[C@@H](C13OCCCO3)O2)O</td>\n",
       "      <td>Inactive</td>\n",
       "    </tr>\n",
       "    <tr>\n",
       "      <th>13906</th>\n",
       "      <td>26751438</td>\n",
       "      <td>16758816.0</td>\n",
       "      <td>C1COC2([C@@H]3[C@H](O3)[C@H]([C@@H]4C2=CC[C@H]...</td>\n",
       "      <td>Inactive</td>\n",
       "    </tr>\n",
       "    <tr>\n",
       "      <th>13907</th>\n",
       "      <td>26751439</td>\n",
       "      <td>16758817.0</td>\n",
       "      <td>CCN1C(=O)[C@H]2CC=C3[C@H]([C@H]2C1=O)[C@@H]([C...</td>\n",
       "      <td>Inactive</td>\n",
       "    </tr>\n",
       "    <tr>\n",
       "      <th>13908</th>\n",
       "      <td>26751440</td>\n",
       "      <td>16758818.0</td>\n",
       "      <td>C[C@H](C1=CC=CC=C1)N2C(=O)[C@@H]3CC[C@H]4[C@H]...</td>\n",
       "      <td>Inactive</td>\n",
       "    </tr>\n",
       "    <tr>\n",
       "      <th>13909</th>\n",
       "      <td>26751441</td>\n",
       "      <td>10847630.0</td>\n",
       "      <td>COC(=O)NC/C=C\\C1=NC(=CO1)CCCO</td>\n",
       "      <td>Inactive</td>\n",
       "    </tr>\n",
       "  </tbody>\n",
       "</table>\n",
       "<p>13896 rows × 4 columns</p>\n",
       "</div>"
      ],
      "text/plain": [
       "       Pubchem_SID  Pubchem_CID  \\\n",
       "0           842618     644890.0   \n",
       "1           842953    6602688.0   \n",
       "2           843526     645818.0   \n",
       "3           843662     645965.0   \n",
       "4           844085     646395.0   \n",
       "...            ...          ...   \n",
       "13905     26751437   16758815.0   \n",
       "13906     26751438   16758816.0   \n",
       "13907     26751439   16758817.0   \n",
       "13908     26751440   16758818.0   \n",
       "13909     26751441   10847630.0   \n",
       "\n",
       "                                                  SMILES Activity_Outcome  \n",
       "0      CC(C)(C)N1C(=NN=N1)C(C2=CC=CC=C2OC)N3CCN(CC3)C...           Active  \n",
       "1      C1COCCN1CCN2C3=CC=CC=C3N(C2=N)CC(=O)C4=CC(=C(C...           Active  \n",
       "2               COC1=CC=CC2=C1NC=C(C2=O)C(=O)NCC3=CC=CS3           Active  \n",
       "3      CC1CC2=CC=CC=C2N1C(=O)CN3CCC(CC3)N4C5=C(C=C(C=...           Active  \n",
       "4                    CCSC1=C(C2(CCCCC2)C(=C(N1)N)C#N)C#N           Active  \n",
       "...                                                  ...              ...  \n",
       "13905           C=CC1=C[C@H]([C@H]2[C@@H](C13OCCCO3)O2)O         Inactive  \n",
       "13906  C1COC2([C@@H]3[C@H](O3)[C@H]([C@@H]4C2=CC[C@H]...         Inactive  \n",
       "13907  CCN1C(=O)[C@H]2CC=C3[C@H]([C@H]2C1=O)[C@@H]([C...         Inactive  \n",
       "13908  C[C@H](C1=CC=CC=C1)N2C(=O)[C@@H]3CC[C@H]4[C@H]...         Inactive  \n",
       "13909                      COC(=O)NC/C=C\\C1=NC(=CO1)CCCO         Inactive  \n",
       "\n",
       "[13896 rows x 4 columns]"
      ]
     },
     "execution_count": 8,
     "metadata": {},
     "output_type": "execute_result"
    }
   ],
   "source": [
    "df"
   ]
  },
  {
   "cell_type": "code",
   "execution_count": 9,
   "id": "5715252e",
   "metadata": {},
   "outputs": [
    {
     "name": "stdout",
     "output_type": "stream",
     "text": [
      "Active chemicals:  2769\n",
      "Inactive chemicals:  11127\n",
      "Ratio:  4.018418201516793\n"
     ]
    }
   ],
   "source": [
    "count_1 = len(df[df.Activity_Outcome=='Active'])\n",
    "count_0 = len(df[df.Activity_Outcome=='Inactive'])\n",
    "\n",
    "print('Active chemicals: ',count_1)\n",
    "print('Inactive chemicals: ',count_0)\n",
    "print('Ratio: ', count_0/count_1)"
   ]
  },
  {
   "cell_type": "code",
   "execution_count": 10,
   "id": "a4906505",
   "metadata": {},
   "outputs": [],
   "source": [
    "prop_dict = {\n",
    "            'Inactive':0,\n",
    "            'Active':1\n",
    "            }"
   ]
  },
  {
   "cell_type": "markdown",
   "id": "ea6e9052",
   "metadata": {},
   "source": [
    "# How many bits of fingerprint to use?\n",
    "- need to try 1024 vs 2048\n",
    "- From online example code, radius=2, num_bits=2048"
   ]
  },
  {
   "cell_type": "code",
   "execution_count": 11,
   "id": "0e3188db",
   "metadata": {},
   "outputs": [
    {
     "data": {
      "text/plain": [
       "(13896, 2048)"
      ]
     },
     "execution_count": 11,
     "metadata": {},
     "output_type": "execute_result"
    }
   ],
   "source": [
    "fp_name = [f'Bit_{i}' for i in range(2048)]\n",
    "fp_cmpd = []\n",
    "for smiles in df.SMILES.tolist():\n",
    "    cmpd = Chem.MolFromSmiles(smiles)\n",
    "    fp = AllChem.GetMorganFingerprintAsBitVect(cmpd,2, nBits=2048)\n",
    "    binary = fp.ToBitString()\n",
    "    fp_cmpd.append(list(binary))\n",
    "df_fp = pd.DataFrame(fp_cmpd, index = df.SMILES, columns=fp_name)\n",
    "df_fp.shape"
   ]
  },
  {
   "cell_type": "code",
   "execution_count": 12,
   "id": "7a8f0875",
   "metadata": {},
   "outputs": [],
   "source": [
    "X = df['SMILES']\n",
    "y = df['Activity_Outcome'].map(prop_dict)\n",
    "\n",
    "from sklearn.model_selection import train_test_split\n",
    "X_train_raw, X_test_raw, y_train, y_test = train_test_split(X, \n",
    "                                                    y, \n",
    "                                                    test_size=0.3, \n",
    "                                                    random_state=42,\n",
    "                                                    stratify=y)"
   ]
  },
  {
   "cell_type": "code",
   "execution_count": 13,
   "id": "4fe12bbf",
   "metadata": {
    "scrolled": true
   },
   "outputs": [
    {
     "data": {
      "text/html": [
       "<div>\n",
       "<style scoped>\n",
       "    .dataframe tbody tr th:only-of-type {\n",
       "        vertical-align: middle;\n",
       "    }\n",
       "\n",
       "    .dataframe tbody tr th {\n",
       "        vertical-align: top;\n",
       "    }\n",
       "\n",
       "    .dataframe thead th {\n",
       "        text-align: right;\n",
       "    }\n",
       "</style>\n",
       "<table border=\"1\" class=\"dataframe\">\n",
       "  <thead>\n",
       "    <tr style=\"text-align: right;\">\n",
       "      <th></th>\n",
       "      <th>Bit_0</th>\n",
       "      <th>Bit_1</th>\n",
       "      <th>Bit_2</th>\n",
       "      <th>Bit_3</th>\n",
       "      <th>Bit_4</th>\n",
       "      <th>Bit_5</th>\n",
       "      <th>Bit_6</th>\n",
       "      <th>Bit_7</th>\n",
       "      <th>Bit_8</th>\n",
       "      <th>Bit_9</th>\n",
       "      <th>...</th>\n",
       "      <th>Bit_2038</th>\n",
       "      <th>Bit_2039</th>\n",
       "      <th>Bit_2040</th>\n",
       "      <th>Bit_2041</th>\n",
       "      <th>Bit_2042</th>\n",
       "      <th>Bit_2043</th>\n",
       "      <th>Bit_2044</th>\n",
       "      <th>Bit_2045</th>\n",
       "      <th>Bit_2046</th>\n",
       "      <th>Bit_2047</th>\n",
       "    </tr>\n",
       "    <tr>\n",
       "      <th>SMILES</th>\n",
       "      <th></th>\n",
       "      <th></th>\n",
       "      <th></th>\n",
       "      <th></th>\n",
       "      <th></th>\n",
       "      <th></th>\n",
       "      <th></th>\n",
       "      <th></th>\n",
       "      <th></th>\n",
       "      <th></th>\n",
       "      <th></th>\n",
       "      <th></th>\n",
       "      <th></th>\n",
       "      <th></th>\n",
       "      <th></th>\n",
       "      <th></th>\n",
       "      <th></th>\n",
       "      <th></th>\n",
       "      <th></th>\n",
       "      <th></th>\n",
       "      <th></th>\n",
       "    </tr>\n",
       "  </thead>\n",
       "  <tbody>\n",
       "    <tr>\n",
       "      <th>C(CCC(=O)O)CCN</th>\n",
       "      <td>0</td>\n",
       "      <td>0</td>\n",
       "      <td>0</td>\n",
       "      <td>0</td>\n",
       "      <td>0</td>\n",
       "      <td>0</td>\n",
       "      <td>0</td>\n",
       "      <td>0</td>\n",
       "      <td>0</td>\n",
       "      <td>0</td>\n",
       "      <td>...</td>\n",
       "      <td>0</td>\n",
       "      <td>0</td>\n",
       "      <td>0</td>\n",
       "      <td>0</td>\n",
       "      <td>0</td>\n",
       "      <td>0</td>\n",
       "      <td>0</td>\n",
       "      <td>0</td>\n",
       "      <td>0</td>\n",
       "      <td>0</td>\n",
       "    </tr>\n",
       "    <tr>\n",
       "      <th>CN(C)CC(CCCCC(CN(C)C)C(=O)C1=CC=C(C=C1)OC)C(=O)C2=CC=C(C=C2)OC.Cl</th>\n",
       "      <td>0</td>\n",
       "      <td>1</td>\n",
       "      <td>0</td>\n",
       "      <td>0</td>\n",
       "      <td>0</td>\n",
       "      <td>0</td>\n",
       "      <td>0</td>\n",
       "      <td>0</td>\n",
       "      <td>0</td>\n",
       "      <td>0</td>\n",
       "      <td>...</td>\n",
       "      <td>0</td>\n",
       "      <td>0</td>\n",
       "      <td>0</td>\n",
       "      <td>0</td>\n",
       "      <td>0</td>\n",
       "      <td>0</td>\n",
       "      <td>0</td>\n",
       "      <td>0</td>\n",
       "      <td>0</td>\n",
       "      <td>0</td>\n",
       "    </tr>\n",
       "    <tr>\n",
       "      <th>CC1=C(C=C(C=C1)NS(=O)(=O)C2=C(C=CC(=C2)C(=O)NCC3=CC=CC=N3)Cl)C</th>\n",
       "      <td>0</td>\n",
       "      <td>0</td>\n",
       "      <td>0</td>\n",
       "      <td>0</td>\n",
       "      <td>0</td>\n",
       "      <td>0</td>\n",
       "      <td>0</td>\n",
       "      <td>0</td>\n",
       "      <td>0</td>\n",
       "      <td>0</td>\n",
       "      <td>...</td>\n",
       "      <td>0</td>\n",
       "      <td>0</td>\n",
       "      <td>0</td>\n",
       "      <td>0</td>\n",
       "      <td>0</td>\n",
       "      <td>0</td>\n",
       "      <td>0</td>\n",
       "      <td>0</td>\n",
       "      <td>0</td>\n",
       "      <td>0</td>\n",
       "    </tr>\n",
       "    <tr>\n",
       "      <th>CCOC1=CC(=C(C=C1)C2=C[N+](=O)C3=C(N2[O-])CCCC3)OCC</th>\n",
       "      <td>0</td>\n",
       "      <td>0</td>\n",
       "      <td>0</td>\n",
       "      <td>0</td>\n",
       "      <td>0</td>\n",
       "      <td>0</td>\n",
       "      <td>0</td>\n",
       "      <td>0</td>\n",
       "      <td>0</td>\n",
       "      <td>0</td>\n",
       "      <td>...</td>\n",
       "      <td>0</td>\n",
       "      <td>0</td>\n",
       "      <td>0</td>\n",
       "      <td>0</td>\n",
       "      <td>0</td>\n",
       "      <td>0</td>\n",
       "      <td>0</td>\n",
       "      <td>0</td>\n",
       "      <td>0</td>\n",
       "      <td>0</td>\n",
       "    </tr>\n",
       "    <tr>\n",
       "      <th>CN1[C@@H]2CC[C@H]1CC(C2)OC(C3=CC=CC=C3)C4=CC=CC=C4.CS(=O)(=O)O</th>\n",
       "      <td>0</td>\n",
       "      <td>1</td>\n",
       "      <td>0</td>\n",
       "      <td>0</td>\n",
       "      <td>0</td>\n",
       "      <td>0</td>\n",
       "      <td>0</td>\n",
       "      <td>0</td>\n",
       "      <td>0</td>\n",
       "      <td>0</td>\n",
       "      <td>...</td>\n",
       "      <td>0</td>\n",
       "      <td>0</td>\n",
       "      <td>0</td>\n",
       "      <td>0</td>\n",
       "      <td>0</td>\n",
       "      <td>0</td>\n",
       "      <td>0</td>\n",
       "      <td>0</td>\n",
       "      <td>0</td>\n",
       "      <td>0</td>\n",
       "    </tr>\n",
       "    <tr>\n",
       "      <th>...</th>\n",
       "      <td>...</td>\n",
       "      <td>...</td>\n",
       "      <td>...</td>\n",
       "      <td>...</td>\n",
       "      <td>...</td>\n",
       "      <td>...</td>\n",
       "      <td>...</td>\n",
       "      <td>...</td>\n",
       "      <td>...</td>\n",
       "      <td>...</td>\n",
       "      <td>...</td>\n",
       "      <td>...</td>\n",
       "      <td>...</td>\n",
       "      <td>...</td>\n",
       "      <td>...</td>\n",
       "      <td>...</td>\n",
       "      <td>...</td>\n",
       "      <td>...</td>\n",
       "      <td>...</td>\n",
       "      <td>...</td>\n",
       "      <td>...</td>\n",
       "    </tr>\n",
       "    <tr>\n",
       "      <th>CC(=O)O[C@@H]1C[C@]2([C@H](CCC2=O)C3=C1[C@]4([C@H](OC(=O)C5=COC(=C54)C3=O)COC)C)C</th>\n",
       "      <td>0</td>\n",
       "      <td>0</td>\n",
       "      <td>0</td>\n",
       "      <td>0</td>\n",
       "      <td>0</td>\n",
       "      <td>0</td>\n",
       "      <td>0</td>\n",
       "      <td>0</td>\n",
       "      <td>0</td>\n",
       "      <td>0</td>\n",
       "      <td>...</td>\n",
       "      <td>0</td>\n",
       "      <td>0</td>\n",
       "      <td>0</td>\n",
       "      <td>0</td>\n",
       "      <td>0</td>\n",
       "      <td>0</td>\n",
       "      <td>0</td>\n",
       "      <td>0</td>\n",
       "      <td>0</td>\n",
       "      <td>0</td>\n",
       "    </tr>\n",
       "    <tr>\n",
       "      <th>COC1=CC=C(C=C1)C(=O)NC2=C(C(=CS2)C3=C(C=C(C=C3)Cl)Cl)C(=O)N</th>\n",
       "      <td>0</td>\n",
       "      <td>1</td>\n",
       "      <td>0</td>\n",
       "      <td>0</td>\n",
       "      <td>0</td>\n",
       "      <td>0</td>\n",
       "      <td>0</td>\n",
       "      <td>0</td>\n",
       "      <td>0</td>\n",
       "      <td>0</td>\n",
       "      <td>...</td>\n",
       "      <td>0</td>\n",
       "      <td>0</td>\n",
       "      <td>0</td>\n",
       "      <td>0</td>\n",
       "      <td>0</td>\n",
       "      <td>0</td>\n",
       "      <td>0</td>\n",
       "      <td>0</td>\n",
       "      <td>0</td>\n",
       "      <td>0</td>\n",
       "    </tr>\n",
       "    <tr>\n",
       "      <th>CCOC(=O)N1CCC(CC1)NC(=O)CCC2=NC(=NO2)C3=CCN(CC3)C</th>\n",
       "      <td>0</td>\n",
       "      <td>0</td>\n",
       "      <td>0</td>\n",
       "      <td>0</td>\n",
       "      <td>0</td>\n",
       "      <td>0</td>\n",
       "      <td>0</td>\n",
       "      <td>0</td>\n",
       "      <td>0</td>\n",
       "      <td>0</td>\n",
       "      <td>...</td>\n",
       "      <td>0</td>\n",
       "      <td>0</td>\n",
       "      <td>0</td>\n",
       "      <td>0</td>\n",
       "      <td>0</td>\n",
       "      <td>0</td>\n",
       "      <td>0</td>\n",
       "      <td>0</td>\n",
       "      <td>0</td>\n",
       "      <td>0</td>\n",
       "    </tr>\n",
       "    <tr>\n",
       "      <th>C1COCCN1C(=S)SCCN2C(=O)C3=CC=CC=C3C2=O</th>\n",
       "      <td>0</td>\n",
       "      <td>0</td>\n",
       "      <td>0</td>\n",
       "      <td>0</td>\n",
       "      <td>0</td>\n",
       "      <td>0</td>\n",
       "      <td>0</td>\n",
       "      <td>0</td>\n",
       "      <td>0</td>\n",
       "      <td>0</td>\n",
       "      <td>...</td>\n",
       "      <td>0</td>\n",
       "      <td>0</td>\n",
       "      <td>0</td>\n",
       "      <td>0</td>\n",
       "      <td>0</td>\n",
       "      <td>0</td>\n",
       "      <td>0</td>\n",
       "      <td>0</td>\n",
       "      <td>0</td>\n",
       "      <td>0</td>\n",
       "    </tr>\n",
       "    <tr>\n",
       "      <th>CC(C)CN1CC[C@]2(C1)CCCN(C2)C(=O)C3=CC=CO3</th>\n",
       "      <td>0</td>\n",
       "      <td>1</td>\n",
       "      <td>0</td>\n",
       "      <td>0</td>\n",
       "      <td>0</td>\n",
       "      <td>0</td>\n",
       "      <td>0</td>\n",
       "      <td>0</td>\n",
       "      <td>0</td>\n",
       "      <td>0</td>\n",
       "      <td>...</td>\n",
       "      <td>0</td>\n",
       "      <td>0</td>\n",
       "      <td>0</td>\n",
       "      <td>0</td>\n",
       "      <td>0</td>\n",
       "      <td>0</td>\n",
       "      <td>0</td>\n",
       "      <td>0</td>\n",
       "      <td>0</td>\n",
       "      <td>0</td>\n",
       "    </tr>\n",
       "  </tbody>\n",
       "</table>\n",
       "<p>9727 rows × 2048 columns</p>\n",
       "</div>"
      ],
      "text/plain": [
       "                                                    Bit_0  Bit_1  Bit_2  \\\n",
       "SMILES                                                                    \n",
       "C(CCC(=O)O)CCN                                          0      0      0   \n",
       "CN(C)CC(CCCCC(CN(C)C)C(=O)C1=CC=C(C=C1)OC)C(=O)...      0      1      0   \n",
       "CC1=C(C=C(C=C1)NS(=O)(=O)C2=C(C=CC(=C2)C(=O)NCC...      0      0      0   \n",
       "CCOC1=CC(=C(C=C1)C2=C[N+](=O)C3=C(N2[O-])CCCC3)OCC      0      0      0   \n",
       "CN1[C@@H]2CC[C@H]1CC(C2)OC(C3=CC=CC=C3)C4=CC=CC...      0      1      0   \n",
       "...                                                   ...    ...    ...   \n",
       "CC(=O)O[C@@H]1C[C@]2([C@H](CCC2=O)C3=C1[C@]4([C...      0      0      0   \n",
       "COC1=CC=C(C=C1)C(=O)NC2=C(C(=CS2)C3=C(C=C(C=C3)...      0      1      0   \n",
       "CCOC(=O)N1CCC(CC1)NC(=O)CCC2=NC(=NO2)C3=CCN(CC3)C       0      0      0   \n",
       "C1COCCN1C(=S)SCCN2C(=O)C3=CC=CC=C3C2=O                  0      0      0   \n",
       "CC(C)CN1CC[C@]2(C1)CCCN(C2)C(=O)C3=CC=CO3               0      1      0   \n",
       "\n",
       "                                                    Bit_3  Bit_4  Bit_5  \\\n",
       "SMILES                                                                    \n",
       "C(CCC(=O)O)CCN                                          0      0      0   \n",
       "CN(C)CC(CCCCC(CN(C)C)C(=O)C1=CC=C(C=C1)OC)C(=O)...      0      0      0   \n",
       "CC1=C(C=C(C=C1)NS(=O)(=O)C2=C(C=CC(=C2)C(=O)NCC...      0      0      0   \n",
       "CCOC1=CC(=C(C=C1)C2=C[N+](=O)C3=C(N2[O-])CCCC3)OCC      0      0      0   \n",
       "CN1[C@@H]2CC[C@H]1CC(C2)OC(C3=CC=CC=C3)C4=CC=CC...      0      0      0   \n",
       "...                                                   ...    ...    ...   \n",
       "CC(=O)O[C@@H]1C[C@]2([C@H](CCC2=O)C3=C1[C@]4([C...      0      0      0   \n",
       "COC1=CC=C(C=C1)C(=O)NC2=C(C(=CS2)C3=C(C=C(C=C3)...      0      0      0   \n",
       "CCOC(=O)N1CCC(CC1)NC(=O)CCC2=NC(=NO2)C3=CCN(CC3)C       0      0      0   \n",
       "C1COCCN1C(=S)SCCN2C(=O)C3=CC=CC=C3C2=O                  0      0      0   \n",
       "CC(C)CN1CC[C@]2(C1)CCCN(C2)C(=O)C3=CC=CO3               0      0      0   \n",
       "\n",
       "                                                    Bit_6  Bit_7  Bit_8  \\\n",
       "SMILES                                                                    \n",
       "C(CCC(=O)O)CCN                                          0      0      0   \n",
       "CN(C)CC(CCCCC(CN(C)C)C(=O)C1=CC=C(C=C1)OC)C(=O)...      0      0      0   \n",
       "CC1=C(C=C(C=C1)NS(=O)(=O)C2=C(C=CC(=C2)C(=O)NCC...      0      0      0   \n",
       "CCOC1=CC(=C(C=C1)C2=C[N+](=O)C3=C(N2[O-])CCCC3)OCC      0      0      0   \n",
       "CN1[C@@H]2CC[C@H]1CC(C2)OC(C3=CC=CC=C3)C4=CC=CC...      0      0      0   \n",
       "...                                                   ...    ...    ...   \n",
       "CC(=O)O[C@@H]1C[C@]2([C@H](CCC2=O)C3=C1[C@]4([C...      0      0      0   \n",
       "COC1=CC=C(C=C1)C(=O)NC2=C(C(=CS2)C3=C(C=C(C=C3)...      0      0      0   \n",
       "CCOC(=O)N1CCC(CC1)NC(=O)CCC2=NC(=NO2)C3=CCN(CC3)C       0      0      0   \n",
       "C1COCCN1C(=S)SCCN2C(=O)C3=CC=CC=C3C2=O                  0      0      0   \n",
       "CC(C)CN1CC[C@]2(C1)CCCN(C2)C(=O)C3=CC=CO3               0      0      0   \n",
       "\n",
       "                                                    Bit_9  ...  Bit_2038  \\\n",
       "SMILES                                                     ...             \n",
       "C(CCC(=O)O)CCN                                          0  ...         0   \n",
       "CN(C)CC(CCCCC(CN(C)C)C(=O)C1=CC=C(C=C1)OC)C(=O)...      0  ...         0   \n",
       "CC1=C(C=C(C=C1)NS(=O)(=O)C2=C(C=CC(=C2)C(=O)NCC...      0  ...         0   \n",
       "CCOC1=CC(=C(C=C1)C2=C[N+](=O)C3=C(N2[O-])CCCC3)OCC      0  ...         0   \n",
       "CN1[C@@H]2CC[C@H]1CC(C2)OC(C3=CC=CC=C3)C4=CC=CC...      0  ...         0   \n",
       "...                                                   ...  ...       ...   \n",
       "CC(=O)O[C@@H]1C[C@]2([C@H](CCC2=O)C3=C1[C@]4([C...      0  ...         0   \n",
       "COC1=CC=C(C=C1)C(=O)NC2=C(C(=CS2)C3=C(C=C(C=C3)...      0  ...         0   \n",
       "CCOC(=O)N1CCC(CC1)NC(=O)CCC2=NC(=NO2)C3=CCN(CC3)C       0  ...         0   \n",
       "C1COCCN1C(=S)SCCN2C(=O)C3=CC=CC=C3C2=O                  0  ...         0   \n",
       "CC(C)CN1CC[C@]2(C1)CCCN(C2)C(=O)C3=CC=CO3               0  ...         0   \n",
       "\n",
       "                                                    Bit_2039  Bit_2040  \\\n",
       "SMILES                                                                   \n",
       "C(CCC(=O)O)CCN                                             0         0   \n",
       "CN(C)CC(CCCCC(CN(C)C)C(=O)C1=CC=C(C=C1)OC)C(=O)...         0         0   \n",
       "CC1=C(C=C(C=C1)NS(=O)(=O)C2=C(C=CC(=C2)C(=O)NCC...         0         0   \n",
       "CCOC1=CC(=C(C=C1)C2=C[N+](=O)C3=C(N2[O-])CCCC3)OCC         0         0   \n",
       "CN1[C@@H]2CC[C@H]1CC(C2)OC(C3=CC=CC=C3)C4=CC=CC...         0         0   \n",
       "...                                                      ...       ...   \n",
       "CC(=O)O[C@@H]1C[C@]2([C@H](CCC2=O)C3=C1[C@]4([C...         0         0   \n",
       "COC1=CC=C(C=C1)C(=O)NC2=C(C(=CS2)C3=C(C=C(C=C3)...         0         0   \n",
       "CCOC(=O)N1CCC(CC1)NC(=O)CCC2=NC(=NO2)C3=CCN(CC3)C          0         0   \n",
       "C1COCCN1C(=S)SCCN2C(=O)C3=CC=CC=C3C2=O                     0         0   \n",
       "CC(C)CN1CC[C@]2(C1)CCCN(C2)C(=O)C3=CC=CO3                  0         0   \n",
       "\n",
       "                                                    Bit_2041  Bit_2042  \\\n",
       "SMILES                                                                   \n",
       "C(CCC(=O)O)CCN                                             0         0   \n",
       "CN(C)CC(CCCCC(CN(C)C)C(=O)C1=CC=C(C=C1)OC)C(=O)...         0         0   \n",
       "CC1=C(C=C(C=C1)NS(=O)(=O)C2=C(C=CC(=C2)C(=O)NCC...         0         0   \n",
       "CCOC1=CC(=C(C=C1)C2=C[N+](=O)C3=C(N2[O-])CCCC3)OCC         0         0   \n",
       "CN1[C@@H]2CC[C@H]1CC(C2)OC(C3=CC=CC=C3)C4=CC=CC...         0         0   \n",
       "...                                                      ...       ...   \n",
       "CC(=O)O[C@@H]1C[C@]2([C@H](CCC2=O)C3=C1[C@]4([C...         0         0   \n",
       "COC1=CC=C(C=C1)C(=O)NC2=C(C(=CS2)C3=C(C=C(C=C3)...         0         0   \n",
       "CCOC(=O)N1CCC(CC1)NC(=O)CCC2=NC(=NO2)C3=CCN(CC3)C          0         0   \n",
       "C1COCCN1C(=S)SCCN2C(=O)C3=CC=CC=C3C2=O                     0         0   \n",
       "CC(C)CN1CC[C@]2(C1)CCCN(C2)C(=O)C3=CC=CO3                  0         0   \n",
       "\n",
       "                                                    Bit_2043  Bit_2044  \\\n",
       "SMILES                                                                   \n",
       "C(CCC(=O)O)CCN                                             0         0   \n",
       "CN(C)CC(CCCCC(CN(C)C)C(=O)C1=CC=C(C=C1)OC)C(=O)...         0         0   \n",
       "CC1=C(C=C(C=C1)NS(=O)(=O)C2=C(C=CC(=C2)C(=O)NCC...         0         0   \n",
       "CCOC1=CC(=C(C=C1)C2=C[N+](=O)C3=C(N2[O-])CCCC3)OCC         0         0   \n",
       "CN1[C@@H]2CC[C@H]1CC(C2)OC(C3=CC=CC=C3)C4=CC=CC...         0         0   \n",
       "...                                                      ...       ...   \n",
       "CC(=O)O[C@@H]1C[C@]2([C@H](CCC2=O)C3=C1[C@]4([C...         0         0   \n",
       "COC1=CC=C(C=C1)C(=O)NC2=C(C(=CS2)C3=C(C=C(C=C3)...         0         0   \n",
       "CCOC(=O)N1CCC(CC1)NC(=O)CCC2=NC(=NO2)C3=CCN(CC3)C          0         0   \n",
       "C1COCCN1C(=S)SCCN2C(=O)C3=CC=CC=C3C2=O                     0         0   \n",
       "CC(C)CN1CC[C@]2(C1)CCCN(C2)C(=O)C3=CC=CO3                  0         0   \n",
       "\n",
       "                                                    Bit_2045  Bit_2046  \\\n",
       "SMILES                                                                   \n",
       "C(CCC(=O)O)CCN                                             0         0   \n",
       "CN(C)CC(CCCCC(CN(C)C)C(=O)C1=CC=C(C=C1)OC)C(=O)...         0         0   \n",
       "CC1=C(C=C(C=C1)NS(=O)(=O)C2=C(C=CC(=C2)C(=O)NCC...         0         0   \n",
       "CCOC1=CC(=C(C=C1)C2=C[N+](=O)C3=C(N2[O-])CCCC3)OCC         0         0   \n",
       "CN1[C@@H]2CC[C@H]1CC(C2)OC(C3=CC=CC=C3)C4=CC=CC...         0         0   \n",
       "...                                                      ...       ...   \n",
       "CC(=O)O[C@@H]1C[C@]2([C@H](CCC2=O)C3=C1[C@]4([C...         0         0   \n",
       "COC1=CC=C(C=C1)C(=O)NC2=C(C(=CS2)C3=C(C=C(C=C3)...         0         0   \n",
       "CCOC(=O)N1CCC(CC1)NC(=O)CCC2=NC(=NO2)C3=CCN(CC3)C          0         0   \n",
       "C1COCCN1C(=S)SCCN2C(=O)C3=CC=CC=C3C2=O                     0         0   \n",
       "CC(C)CN1CC[C@]2(C1)CCCN(C2)C(=O)C3=CC=CO3                  0         0   \n",
       "\n",
       "                                                    Bit_2047  \n",
       "SMILES                                                        \n",
       "C(CCC(=O)O)CCN                                             0  \n",
       "CN(C)CC(CCCCC(CN(C)C)C(=O)C1=CC=C(C=C1)OC)C(=O)...         0  \n",
       "CC1=C(C=C(C=C1)NS(=O)(=O)C2=C(C=CC(=C2)C(=O)NCC...         0  \n",
       "CCOC1=CC(=C(C=C1)C2=C[N+](=O)C3=C(N2[O-])CCCC3)OCC         0  \n",
       "CN1[C@@H]2CC[C@H]1CC(C2)OC(C3=CC=CC=C3)C4=CC=CC...         0  \n",
       "...                                                      ...  \n",
       "CC(=O)O[C@@H]1C[C@]2([C@H](CCC2=O)C3=C1[C@]4([C...         0  \n",
       "COC1=CC=C(C=C1)C(=O)NC2=C(C(=CS2)C3=C(C=C(C=C3)...         0  \n",
       "CCOC(=O)N1CCC(CC1)NC(=O)CCC2=NC(=NO2)C3=CCN(CC3)C          0  \n",
       "C1COCCN1C(=S)SCCN2C(=O)C3=CC=CC=C3C2=O                     0  \n",
       "CC(C)CN1CC[C@]2(C1)CCCN(C2)C(=O)C3=CC=CO3                  0  \n",
       "\n",
       "[9727 rows x 2048 columns]"
      ]
     },
     "execution_count": 13,
     "metadata": {},
     "output_type": "execute_result"
    }
   ],
   "source": [
    "fp_name = [f'Bit_{i}' for i in range(2048)]\n",
    "fp_cmpd = []\n",
    "for smiles in X_train_raw.tolist():\n",
    "    cmpd = Chem.MolFromSmiles(smiles)\n",
    "    fp = AllChem.GetMorganFingerprintAsBitVect(cmpd,2, nBits=2048)\n",
    "    binary = fp.ToBitString()\n",
    "    fp_cmpd.append(list(binary))\n",
    "X_train = pd.DataFrame(fp_cmpd, index = X_train_raw, columns=fp_name)\n",
    "X_train = X_train.astype(int)\n",
    "X_train"
   ]
  },
  {
   "cell_type": "code",
   "execution_count": 14,
   "id": "32fca226",
   "metadata": {},
   "outputs": [
    {
     "data": {
      "text/plain": [
       "numpy.int64"
      ]
     },
     "execution_count": 14,
     "metadata": {},
     "output_type": "execute_result"
    }
   ],
   "source": [
    "type(X_train.Bit_0[0])"
   ]
  },
  {
   "cell_type": "code",
   "execution_count": 15,
   "id": "fcb330e9",
   "metadata": {
    "scrolled": true
   },
   "outputs": [
    {
     "data": {
      "text/html": [
       "<div>\n",
       "<style scoped>\n",
       "    .dataframe tbody tr th:only-of-type {\n",
       "        vertical-align: middle;\n",
       "    }\n",
       "\n",
       "    .dataframe tbody tr th {\n",
       "        vertical-align: top;\n",
       "    }\n",
       "\n",
       "    .dataframe thead th {\n",
       "        text-align: right;\n",
       "    }\n",
       "</style>\n",
       "<table border=\"1\" class=\"dataframe\">\n",
       "  <thead>\n",
       "    <tr style=\"text-align: right;\">\n",
       "      <th></th>\n",
       "      <th>Bit_0</th>\n",
       "      <th>Bit_1</th>\n",
       "      <th>Bit_2</th>\n",
       "      <th>Bit_3</th>\n",
       "      <th>Bit_4</th>\n",
       "      <th>Bit_5</th>\n",
       "      <th>Bit_6</th>\n",
       "      <th>Bit_7</th>\n",
       "      <th>Bit_8</th>\n",
       "      <th>Bit_9</th>\n",
       "      <th>...</th>\n",
       "      <th>Bit_2038</th>\n",
       "      <th>Bit_2039</th>\n",
       "      <th>Bit_2040</th>\n",
       "      <th>Bit_2041</th>\n",
       "      <th>Bit_2042</th>\n",
       "      <th>Bit_2043</th>\n",
       "      <th>Bit_2044</th>\n",
       "      <th>Bit_2045</th>\n",
       "      <th>Bit_2046</th>\n",
       "      <th>Bit_2047</th>\n",
       "    </tr>\n",
       "    <tr>\n",
       "      <th>SMILES</th>\n",
       "      <th></th>\n",
       "      <th></th>\n",
       "      <th></th>\n",
       "      <th></th>\n",
       "      <th></th>\n",
       "      <th></th>\n",
       "      <th></th>\n",
       "      <th></th>\n",
       "      <th></th>\n",
       "      <th></th>\n",
       "      <th></th>\n",
       "      <th></th>\n",
       "      <th></th>\n",
       "      <th></th>\n",
       "      <th></th>\n",
       "      <th></th>\n",
       "      <th></th>\n",
       "      <th></th>\n",
       "      <th></th>\n",
       "      <th></th>\n",
       "      <th></th>\n",
       "    </tr>\n",
       "  </thead>\n",
       "  <tbody>\n",
       "    <tr>\n",
       "      <th>CC1=C(C=CC=C1Cl)N2C(C(C2=O)N3C(=O)C4=C(C3=O)C(=CC=C4)[N+](=O)[O-])C5=CC=CS5</th>\n",
       "      <td>0</td>\n",
       "      <td>0</td>\n",
       "      <td>0</td>\n",
       "      <td>0</td>\n",
       "      <td>0</td>\n",
       "      <td>1</td>\n",
       "      <td>0</td>\n",
       "      <td>0</td>\n",
       "      <td>0</td>\n",
       "      <td>0</td>\n",
       "      <td>...</td>\n",
       "      <td>0</td>\n",
       "      <td>0</td>\n",
       "      <td>0</td>\n",
       "      <td>0</td>\n",
       "      <td>0</td>\n",
       "      <td>0</td>\n",
       "      <td>0</td>\n",
       "      <td>0</td>\n",
       "      <td>0</td>\n",
       "      <td>0</td>\n",
       "    </tr>\n",
       "    <tr>\n",
       "      <th>C1CC=C(C(=O)C1)[C@H](CCOC(C2=CC=CC=C2)(C3=CC=CC=C3)C4=CC=CC=C4)O</th>\n",
       "      <td>0</td>\n",
       "      <td>1</td>\n",
       "      <td>0</td>\n",
       "      <td>0</td>\n",
       "      <td>0</td>\n",
       "      <td>0</td>\n",
       "      <td>0</td>\n",
       "      <td>0</td>\n",
       "      <td>0</td>\n",
       "      <td>0</td>\n",
       "      <td>...</td>\n",
       "      <td>0</td>\n",
       "      <td>0</td>\n",
       "      <td>0</td>\n",
       "      <td>0</td>\n",
       "      <td>0</td>\n",
       "      <td>0</td>\n",
       "      <td>0</td>\n",
       "      <td>0</td>\n",
       "      <td>0</td>\n",
       "      <td>0</td>\n",
       "    </tr>\n",
       "    <tr>\n",
       "      <th>COC(=O)C1=CC(=CC(=C1)NC(=O)CC2C(=O)NC3CCCCC3N2)C(=O)OC</th>\n",
       "      <td>0</td>\n",
       "      <td>0</td>\n",
       "      <td>0</td>\n",
       "      <td>0</td>\n",
       "      <td>0</td>\n",
       "      <td>0</td>\n",
       "      <td>0</td>\n",
       "      <td>0</td>\n",
       "      <td>0</td>\n",
       "      <td>0</td>\n",
       "      <td>...</td>\n",
       "      <td>0</td>\n",
       "      <td>0</td>\n",
       "      <td>0</td>\n",
       "      <td>0</td>\n",
       "      <td>0</td>\n",
       "      <td>0</td>\n",
       "      <td>0</td>\n",
       "      <td>0</td>\n",
       "      <td>0</td>\n",
       "      <td>0</td>\n",
       "    </tr>\n",
       "    <tr>\n",
       "      <th>C[C@@H]/1COC(=O)[C@H](NC(=O)C/C=C\\[C@@H]([C@H](COC(=O)C/C=C1)OC)C)C</th>\n",
       "      <td>0</td>\n",
       "      <td>0</td>\n",
       "      <td>0</td>\n",
       "      <td>0</td>\n",
       "      <td>0</td>\n",
       "      <td>0</td>\n",
       "      <td>0</td>\n",
       "      <td>0</td>\n",
       "      <td>0</td>\n",
       "      <td>0</td>\n",
       "      <td>...</td>\n",
       "      <td>0</td>\n",
       "      <td>0</td>\n",
       "      <td>0</td>\n",
       "      <td>0</td>\n",
       "      <td>0</td>\n",
       "      <td>0</td>\n",
       "      <td>0</td>\n",
       "      <td>0</td>\n",
       "      <td>0</td>\n",
       "      <td>0</td>\n",
       "    </tr>\n",
       "    <tr>\n",
       "      <th>COCC(=O)N1CCC2(CC1)CN(C2)CC3=CC=C(C=C3)C#N</th>\n",
       "      <td>0</td>\n",
       "      <td>0</td>\n",
       "      <td>0</td>\n",
       "      <td>0</td>\n",
       "      <td>0</td>\n",
       "      <td>0</td>\n",
       "      <td>0</td>\n",
       "      <td>0</td>\n",
       "      <td>0</td>\n",
       "      <td>0</td>\n",
       "      <td>...</td>\n",
       "      <td>0</td>\n",
       "      <td>0</td>\n",
       "      <td>0</td>\n",
       "      <td>0</td>\n",
       "      <td>0</td>\n",
       "      <td>0</td>\n",
       "      <td>0</td>\n",
       "      <td>0</td>\n",
       "      <td>0</td>\n",
       "      <td>0</td>\n",
       "    </tr>\n",
       "    <tr>\n",
       "      <th>...</th>\n",
       "      <td>...</td>\n",
       "      <td>...</td>\n",
       "      <td>...</td>\n",
       "      <td>...</td>\n",
       "      <td>...</td>\n",
       "      <td>...</td>\n",
       "      <td>...</td>\n",
       "      <td>...</td>\n",
       "      <td>...</td>\n",
       "      <td>...</td>\n",
       "      <td>...</td>\n",
       "      <td>...</td>\n",
       "      <td>...</td>\n",
       "      <td>...</td>\n",
       "      <td>...</td>\n",
       "      <td>...</td>\n",
       "      <td>...</td>\n",
       "      <td>...</td>\n",
       "      <td>...</td>\n",
       "      <td>...</td>\n",
       "      <td>...</td>\n",
       "    </tr>\n",
       "    <tr>\n",
       "      <th>CC1=CC=C(C=C1)/C(=C/C2=CC(=CC=C2)[N+](=O)[O-])/C#N</th>\n",
       "      <td>0</td>\n",
       "      <td>0</td>\n",
       "      <td>0</td>\n",
       "      <td>0</td>\n",
       "      <td>0</td>\n",
       "      <td>0</td>\n",
       "      <td>0</td>\n",
       "      <td>0</td>\n",
       "      <td>0</td>\n",
       "      <td>0</td>\n",
       "      <td>...</td>\n",
       "      <td>0</td>\n",
       "      <td>0</td>\n",
       "      <td>0</td>\n",
       "      <td>0</td>\n",
       "      <td>0</td>\n",
       "      <td>0</td>\n",
       "      <td>0</td>\n",
       "      <td>0</td>\n",
       "      <td>0</td>\n",
       "      <td>0</td>\n",
       "    </tr>\n",
       "    <tr>\n",
       "      <th>C1=CC(=CC=C1CN2C3=NC=NC=C3N=C(C2=O)C4=CC(=C(C=C4)F)F)F</th>\n",
       "      <td>0</td>\n",
       "      <td>0</td>\n",
       "      <td>0</td>\n",
       "      <td>0</td>\n",
       "      <td>0</td>\n",
       "      <td>0</td>\n",
       "      <td>0</td>\n",
       "      <td>0</td>\n",
       "      <td>0</td>\n",
       "      <td>0</td>\n",
       "      <td>...</td>\n",
       "      <td>0</td>\n",
       "      <td>0</td>\n",
       "      <td>0</td>\n",
       "      <td>0</td>\n",
       "      <td>0</td>\n",
       "      <td>0</td>\n",
       "      <td>0</td>\n",
       "      <td>0</td>\n",
       "      <td>0</td>\n",
       "      <td>0</td>\n",
       "    </tr>\n",
       "    <tr>\n",
       "      <th>CCN(CC)CCCNC(=O)C1CCC(=O)N(C1C2=CC=C(C=C2)F)C3=CC=C(C=C3)OC</th>\n",
       "      <td>0</td>\n",
       "      <td>0</td>\n",
       "      <td>0</td>\n",
       "      <td>0</td>\n",
       "      <td>0</td>\n",
       "      <td>0</td>\n",
       "      <td>0</td>\n",
       "      <td>0</td>\n",
       "      <td>0</td>\n",
       "      <td>0</td>\n",
       "      <td>...</td>\n",
       "      <td>0</td>\n",
       "      <td>0</td>\n",
       "      <td>0</td>\n",
       "      <td>0</td>\n",
       "      <td>0</td>\n",
       "      <td>0</td>\n",
       "      <td>0</td>\n",
       "      <td>0</td>\n",
       "      <td>0</td>\n",
       "      <td>0</td>\n",
       "    </tr>\n",
       "    <tr>\n",
       "      <th>CC(C)NC(=O)CN1CCC(CC1)(C2=CC(=CC=C2)F)NC(=O)C</th>\n",
       "      <td>0</td>\n",
       "      <td>1</td>\n",
       "      <td>0</td>\n",
       "      <td>0</td>\n",
       "      <td>0</td>\n",
       "      <td>0</td>\n",
       "      <td>0</td>\n",
       "      <td>0</td>\n",
       "      <td>0</td>\n",
       "      <td>0</td>\n",
       "      <td>...</td>\n",
       "      <td>0</td>\n",
       "      <td>0</td>\n",
       "      <td>0</td>\n",
       "      <td>0</td>\n",
       "      <td>0</td>\n",
       "      <td>0</td>\n",
       "      <td>0</td>\n",
       "      <td>0</td>\n",
       "      <td>0</td>\n",
       "      <td>0</td>\n",
       "    </tr>\n",
       "    <tr>\n",
       "      <th>CN(C)C1=CC(=O)N2CCCSC2=N1</th>\n",
       "      <td>0</td>\n",
       "      <td>0</td>\n",
       "      <td>0</td>\n",
       "      <td>0</td>\n",
       "      <td>0</td>\n",
       "      <td>0</td>\n",
       "      <td>0</td>\n",
       "      <td>0</td>\n",
       "      <td>0</td>\n",
       "      <td>0</td>\n",
       "      <td>...</td>\n",
       "      <td>0</td>\n",
       "      <td>0</td>\n",
       "      <td>0</td>\n",
       "      <td>0</td>\n",
       "      <td>0</td>\n",
       "      <td>0</td>\n",
       "      <td>0</td>\n",
       "      <td>0</td>\n",
       "      <td>0</td>\n",
       "      <td>0</td>\n",
       "    </tr>\n",
       "  </tbody>\n",
       "</table>\n",
       "<p>4169 rows × 2048 columns</p>\n",
       "</div>"
      ],
      "text/plain": [
       "                                                    Bit_0  Bit_1  Bit_2  \\\n",
       "SMILES                                                                    \n",
       "CC1=C(C=CC=C1Cl)N2C(C(C2=O)N3C(=O)C4=C(C3=O)C(=...      0      0      0   \n",
       "C1CC=C(C(=O)C1)[C@H](CCOC(C2=CC=CC=C2)(C3=CC=CC...      0      1      0   \n",
       "COC(=O)C1=CC(=CC(=C1)NC(=O)CC2C(=O)NC3CCCCC3N2)...      0      0      0   \n",
       "C[C@@H]/1COC(=O)[C@H](NC(=O)C/C=C\\[C@@H]([C@H](...      0      0      0   \n",
       "COCC(=O)N1CCC2(CC1)CN(C2)CC3=CC=C(C=C3)C#N              0      0      0   \n",
       "...                                                   ...    ...    ...   \n",
       "CC1=CC=C(C=C1)/C(=C/C2=CC(=CC=C2)[N+](=O)[O-])/C#N      0      0      0   \n",
       "C1=CC(=CC=C1CN2C3=NC=NC=C3N=C(C2=O)C4=CC(=C(C=C...      0      0      0   \n",
       "CCN(CC)CCCNC(=O)C1CCC(=O)N(C1C2=CC=C(C=C2)F)C3=...      0      0      0   \n",
       "CC(C)NC(=O)CN1CCC(CC1)(C2=CC(=CC=C2)F)NC(=O)C           0      1      0   \n",
       "CN(C)C1=CC(=O)N2CCCSC2=N1                               0      0      0   \n",
       "\n",
       "                                                    Bit_3  Bit_4  Bit_5  \\\n",
       "SMILES                                                                    \n",
       "CC1=C(C=CC=C1Cl)N2C(C(C2=O)N3C(=O)C4=C(C3=O)C(=...      0      0      1   \n",
       "C1CC=C(C(=O)C1)[C@H](CCOC(C2=CC=CC=C2)(C3=CC=CC...      0      0      0   \n",
       "COC(=O)C1=CC(=CC(=C1)NC(=O)CC2C(=O)NC3CCCCC3N2)...      0      0      0   \n",
       "C[C@@H]/1COC(=O)[C@H](NC(=O)C/C=C\\[C@@H]([C@H](...      0      0      0   \n",
       "COCC(=O)N1CCC2(CC1)CN(C2)CC3=CC=C(C=C3)C#N              0      0      0   \n",
       "...                                                   ...    ...    ...   \n",
       "CC1=CC=C(C=C1)/C(=C/C2=CC(=CC=C2)[N+](=O)[O-])/C#N      0      0      0   \n",
       "C1=CC(=CC=C1CN2C3=NC=NC=C3N=C(C2=O)C4=CC(=C(C=C...      0      0      0   \n",
       "CCN(CC)CCCNC(=O)C1CCC(=O)N(C1C2=CC=C(C=C2)F)C3=...      0      0      0   \n",
       "CC(C)NC(=O)CN1CCC(CC1)(C2=CC(=CC=C2)F)NC(=O)C           0      0      0   \n",
       "CN(C)C1=CC(=O)N2CCCSC2=N1                               0      0      0   \n",
       "\n",
       "                                                    Bit_6  Bit_7  Bit_8  \\\n",
       "SMILES                                                                    \n",
       "CC1=C(C=CC=C1Cl)N2C(C(C2=O)N3C(=O)C4=C(C3=O)C(=...      0      0      0   \n",
       "C1CC=C(C(=O)C1)[C@H](CCOC(C2=CC=CC=C2)(C3=CC=CC...      0      0      0   \n",
       "COC(=O)C1=CC(=CC(=C1)NC(=O)CC2C(=O)NC3CCCCC3N2)...      0      0      0   \n",
       "C[C@@H]/1COC(=O)[C@H](NC(=O)C/C=C\\[C@@H]([C@H](...      0      0      0   \n",
       "COCC(=O)N1CCC2(CC1)CN(C2)CC3=CC=C(C=C3)C#N              0      0      0   \n",
       "...                                                   ...    ...    ...   \n",
       "CC1=CC=C(C=C1)/C(=C/C2=CC(=CC=C2)[N+](=O)[O-])/C#N      0      0      0   \n",
       "C1=CC(=CC=C1CN2C3=NC=NC=C3N=C(C2=O)C4=CC(=C(C=C...      0      0      0   \n",
       "CCN(CC)CCCNC(=O)C1CCC(=O)N(C1C2=CC=C(C=C2)F)C3=...      0      0      0   \n",
       "CC(C)NC(=O)CN1CCC(CC1)(C2=CC(=CC=C2)F)NC(=O)C           0      0      0   \n",
       "CN(C)C1=CC(=O)N2CCCSC2=N1                               0      0      0   \n",
       "\n",
       "                                                    Bit_9  ...  Bit_2038  \\\n",
       "SMILES                                                     ...             \n",
       "CC1=C(C=CC=C1Cl)N2C(C(C2=O)N3C(=O)C4=C(C3=O)C(=...      0  ...         0   \n",
       "C1CC=C(C(=O)C1)[C@H](CCOC(C2=CC=CC=C2)(C3=CC=CC...      0  ...         0   \n",
       "COC(=O)C1=CC(=CC(=C1)NC(=O)CC2C(=O)NC3CCCCC3N2)...      0  ...         0   \n",
       "C[C@@H]/1COC(=O)[C@H](NC(=O)C/C=C\\[C@@H]([C@H](...      0  ...         0   \n",
       "COCC(=O)N1CCC2(CC1)CN(C2)CC3=CC=C(C=C3)C#N              0  ...         0   \n",
       "...                                                   ...  ...       ...   \n",
       "CC1=CC=C(C=C1)/C(=C/C2=CC(=CC=C2)[N+](=O)[O-])/C#N      0  ...         0   \n",
       "C1=CC(=CC=C1CN2C3=NC=NC=C3N=C(C2=O)C4=CC(=C(C=C...      0  ...         0   \n",
       "CCN(CC)CCCNC(=O)C1CCC(=O)N(C1C2=CC=C(C=C2)F)C3=...      0  ...         0   \n",
       "CC(C)NC(=O)CN1CCC(CC1)(C2=CC(=CC=C2)F)NC(=O)C           0  ...         0   \n",
       "CN(C)C1=CC(=O)N2CCCSC2=N1                               0  ...         0   \n",
       "\n",
       "                                                    Bit_2039  Bit_2040  \\\n",
       "SMILES                                                                   \n",
       "CC1=C(C=CC=C1Cl)N2C(C(C2=O)N3C(=O)C4=C(C3=O)C(=...         0         0   \n",
       "C1CC=C(C(=O)C1)[C@H](CCOC(C2=CC=CC=C2)(C3=CC=CC...         0         0   \n",
       "COC(=O)C1=CC(=CC(=C1)NC(=O)CC2C(=O)NC3CCCCC3N2)...         0         0   \n",
       "C[C@@H]/1COC(=O)[C@H](NC(=O)C/C=C\\[C@@H]([C@H](...         0         0   \n",
       "COCC(=O)N1CCC2(CC1)CN(C2)CC3=CC=C(C=C3)C#N                 0         0   \n",
       "...                                                      ...       ...   \n",
       "CC1=CC=C(C=C1)/C(=C/C2=CC(=CC=C2)[N+](=O)[O-])/C#N         0         0   \n",
       "C1=CC(=CC=C1CN2C3=NC=NC=C3N=C(C2=O)C4=CC(=C(C=C...         0         0   \n",
       "CCN(CC)CCCNC(=O)C1CCC(=O)N(C1C2=CC=C(C=C2)F)C3=...         0         0   \n",
       "CC(C)NC(=O)CN1CCC(CC1)(C2=CC(=CC=C2)F)NC(=O)C              0         0   \n",
       "CN(C)C1=CC(=O)N2CCCSC2=N1                                  0         0   \n",
       "\n",
       "                                                    Bit_2041  Bit_2042  \\\n",
       "SMILES                                                                   \n",
       "CC1=C(C=CC=C1Cl)N2C(C(C2=O)N3C(=O)C4=C(C3=O)C(=...         0         0   \n",
       "C1CC=C(C(=O)C1)[C@H](CCOC(C2=CC=CC=C2)(C3=CC=CC...         0         0   \n",
       "COC(=O)C1=CC(=CC(=C1)NC(=O)CC2C(=O)NC3CCCCC3N2)...         0         0   \n",
       "C[C@@H]/1COC(=O)[C@H](NC(=O)C/C=C\\[C@@H]([C@H](...         0         0   \n",
       "COCC(=O)N1CCC2(CC1)CN(C2)CC3=CC=C(C=C3)C#N                 0         0   \n",
       "...                                                      ...       ...   \n",
       "CC1=CC=C(C=C1)/C(=C/C2=CC(=CC=C2)[N+](=O)[O-])/C#N         0         0   \n",
       "C1=CC(=CC=C1CN2C3=NC=NC=C3N=C(C2=O)C4=CC(=C(C=C...         0         0   \n",
       "CCN(CC)CCCNC(=O)C1CCC(=O)N(C1C2=CC=C(C=C2)F)C3=...         0         0   \n",
       "CC(C)NC(=O)CN1CCC(CC1)(C2=CC(=CC=C2)F)NC(=O)C              0         0   \n",
       "CN(C)C1=CC(=O)N2CCCSC2=N1                                  0         0   \n",
       "\n",
       "                                                    Bit_2043  Bit_2044  \\\n",
       "SMILES                                                                   \n",
       "CC1=C(C=CC=C1Cl)N2C(C(C2=O)N3C(=O)C4=C(C3=O)C(=...         0         0   \n",
       "C1CC=C(C(=O)C1)[C@H](CCOC(C2=CC=CC=C2)(C3=CC=CC...         0         0   \n",
       "COC(=O)C1=CC(=CC(=C1)NC(=O)CC2C(=O)NC3CCCCC3N2)...         0         0   \n",
       "C[C@@H]/1COC(=O)[C@H](NC(=O)C/C=C\\[C@@H]([C@H](...         0         0   \n",
       "COCC(=O)N1CCC2(CC1)CN(C2)CC3=CC=C(C=C3)C#N                 0         0   \n",
       "...                                                      ...       ...   \n",
       "CC1=CC=C(C=C1)/C(=C/C2=CC(=CC=C2)[N+](=O)[O-])/C#N         0         0   \n",
       "C1=CC(=CC=C1CN2C3=NC=NC=C3N=C(C2=O)C4=CC(=C(C=C...         0         0   \n",
       "CCN(CC)CCCNC(=O)C1CCC(=O)N(C1C2=CC=C(C=C2)F)C3=...         0         0   \n",
       "CC(C)NC(=O)CN1CCC(CC1)(C2=CC(=CC=C2)F)NC(=O)C              0         0   \n",
       "CN(C)C1=CC(=O)N2CCCSC2=N1                                  0         0   \n",
       "\n",
       "                                                    Bit_2045  Bit_2046  \\\n",
       "SMILES                                                                   \n",
       "CC1=C(C=CC=C1Cl)N2C(C(C2=O)N3C(=O)C4=C(C3=O)C(=...         0         0   \n",
       "C1CC=C(C(=O)C1)[C@H](CCOC(C2=CC=CC=C2)(C3=CC=CC...         0         0   \n",
       "COC(=O)C1=CC(=CC(=C1)NC(=O)CC2C(=O)NC3CCCCC3N2)...         0         0   \n",
       "C[C@@H]/1COC(=O)[C@H](NC(=O)C/C=C\\[C@@H]([C@H](...         0         0   \n",
       "COCC(=O)N1CCC2(CC1)CN(C2)CC3=CC=C(C=C3)C#N                 0         0   \n",
       "...                                                      ...       ...   \n",
       "CC1=CC=C(C=C1)/C(=C/C2=CC(=CC=C2)[N+](=O)[O-])/C#N         0         0   \n",
       "C1=CC(=CC=C1CN2C3=NC=NC=C3N=C(C2=O)C4=CC(=C(C=C...         0         0   \n",
       "CCN(CC)CCCNC(=O)C1CCC(=O)N(C1C2=CC=C(C=C2)F)C3=...         0         0   \n",
       "CC(C)NC(=O)CN1CCC(CC1)(C2=CC(=CC=C2)F)NC(=O)C              0         0   \n",
       "CN(C)C1=CC(=O)N2CCCSC2=N1                                  0         0   \n",
       "\n",
       "                                                    Bit_2047  \n",
       "SMILES                                                        \n",
       "CC1=C(C=CC=C1Cl)N2C(C(C2=O)N3C(=O)C4=C(C3=O)C(=...         0  \n",
       "C1CC=C(C(=O)C1)[C@H](CCOC(C2=CC=CC=C2)(C3=CC=CC...         0  \n",
       "COC(=O)C1=CC(=CC(=C1)NC(=O)CC2C(=O)NC3CCCCC3N2)...         0  \n",
       "C[C@@H]/1COC(=O)[C@H](NC(=O)C/C=C\\[C@@H]([C@H](...         0  \n",
       "COCC(=O)N1CCC2(CC1)CN(C2)CC3=CC=C(C=C3)C#N                 0  \n",
       "...                                                      ...  \n",
       "CC1=CC=C(C=C1)/C(=C/C2=CC(=CC=C2)[N+](=O)[O-])/C#N         0  \n",
       "C1=CC(=CC=C1CN2C3=NC=NC=C3N=C(C2=O)C4=CC(=C(C=C...         0  \n",
       "CCN(CC)CCCNC(=O)C1CCC(=O)N(C1C2=CC=C(C=C2)F)C3=...         0  \n",
       "CC(C)NC(=O)CN1CCC(CC1)(C2=CC(=CC=C2)F)NC(=O)C              0  \n",
       "CN(C)C1=CC(=O)N2CCCSC2=N1                                  0  \n",
       "\n",
       "[4169 rows x 2048 columns]"
      ]
     },
     "execution_count": 15,
     "metadata": {},
     "output_type": "execute_result"
    }
   ],
   "source": [
    "fp_name = [f'Bit_{i}' for i in range(2048)]\n",
    "fp_cmpd = []\n",
    "for smiles in X_test_raw.tolist():\n",
    "    cmpd = Chem.MolFromSmiles(smiles)\n",
    "    fp = AllChem.GetMorganFingerprintAsBitVect(cmpd,2, nBits=2048)\n",
    "    binary = fp.ToBitString()\n",
    "    fp_cmpd.append(list(binary))\n",
    "X_test = pd.DataFrame(fp_cmpd, index = X_test_raw, columns=fp_name)\n",
    "X_test = X_test.astype(int)\n",
    "X_test"
   ]
  },
  {
   "cell_type": "code",
   "execution_count": 16,
   "id": "1239eac9",
   "metadata": {},
   "outputs": [],
   "source": [
    "def report_loss_cf(name, model, X_train, y_train, X_test, y_test, graph=0):\n",
    "    \n",
    "    print('Model performance for: ', name)\n",
    "    \n",
    "    def calculate_loss(model, X, y):\n",
    "        pred = model.predict(X)\n",
    "        pred_proba = model.predict_proba(X)\n",
    "\n",
    "        accuracy = accuracy_score(y, pred)\n",
    "        f1 = f1_score(y, pred)\n",
    "        auc = roc_auc_score(y, pred_proba[:,1])\n",
    "        fpr, tpr, _ = roc_curve(y, pred_proba[:,1])\n",
    "        return pred, accuracy, f1, auc, fpr, tpr\n",
    "    \n",
    "    y_train_pred, accuracy_train, f1_train, auc_train, fpr_train, tpr_train = calculate_loss(\n",
    "        model, X_train, y_train)\n",
    "    print(f'train set accuracy: {accuracy_train:.3f}')\n",
    "    print(f'train set f1 score: {f1_train:.3f}')\n",
    "    print(f'training set AUC score: {auc_train:.3f}')\n",
    "    print()\n",
    "    \n",
    "    y_test_pred, accuracy_test, f1_test, auc_test, fpr_test, tpr_test = calculate_loss(\n",
    "        model, X_test, y_test)\n",
    "    print(f'test set accuracy: {accuracy_test:.3f}')\n",
    "    print(f'test set f1 score: {f1_test:.3f}')\n",
    "    print(f'test set AUC score: {auc_test:.3f}')\n",
    "\n",
    "    if graph == 0:\n",
    "        return \n",
    "\n",
    "    elif graph == 1:\n",
    "        \n",
    "        fig, (ax1, ax2) = plt.subplots(ncols=2, figsize=(7, 3))\n",
    "        cm_train = confusion_matrix(y_train, y_train_pred)\n",
    "        cm_test = confusion_matrix(y_test, y_test_pred)\n",
    "        \n",
    "        sns.heatmap(cm_train, annot=True, cmap=\"Blues\", fmt='g', ax=ax1)\n",
    "        ax1.set_title('train set')\n",
    "        ax1.set_xlabel('Predicted labl')\n",
    "        ax1.set_ylabel('True label')\n",
    "        ax1.xaxis.set_ticklabels(['inactive', 'active'])\n",
    "        ax1.yaxis.set_ticklabels(['inactive', 'active'])\n",
    "        \n",
    "        sns.heatmap(cm_test, annot=True, cmap=\"Blues\", fmt='g', ax=ax2)\n",
    "        ax2.set_title('test set')\n",
    "        ax2.set_xlabel('Predicted labl')\n",
    "        ax2.set_ylabel('True label')\n",
    "        ax2.xaxis.set_ticklabels(['inactive', 'active'])\n",
    "        ax2.yaxis.set_ticklabels(['inactive', 'active'])\n",
    "        plt.tight_layout()\n",
    "        plt.show()\n",
    "        \n",
    "    elif graph == 2:   \n",
    "        \n",
    "        plt.figure(figsize=(5,3))\n",
    "        plt.plot([0,1], [0,1], linestyle='--', label='random')\n",
    "        plt.plot(fpr_train, tpr_train,label=\"Train_AUC=\"+str(auc_train.round(3)))\n",
    "        plt.plot(fpr_test,tpr_test,label=\"Test_AUC=\"+str(auc_test.round(3)))\n",
    "        plt.xlabel('False Positive Rate')\n",
    "        plt.ylabel('True Positive Rate')\n",
    "        plt.legend(loc=4)\n",
    "        plt.tight_layout()\n",
    "        plt.show()"
   ]
  },
  {
   "cell_type": "markdown",
   "id": "0c69d49e",
   "metadata": {},
   "source": [
    "## <font color='red'>modeling strategy: used default (either class_weight='balanced', or calculate class_weight using equation: wj=n_samples / (n_classes * n_samplesj)) for all classification models. Pick the model with best f1 score to fine tune (maybe try a couple of models)."
   ]
  },
  {
   "cell_type": "markdown",
   "id": "cd2f8863",
   "metadata": {},
   "source": [
    "**wj = n_samples / (n_classes * n_samplesj)**\n",
    "\n",
    "for our sales data (train set):\n",
    "- n_samples=  11632,  n_classes= 2(0&1), n_sample0= 11127, n_samples1= 505\n",
    "- Weights for class 0: w0=  11632/(2*11127) = 0.523\n",
    "- Weights for class 1: w1=  11632/(2*505) = 11.517\n",
    "- w1:w0 = 22:1\n",
    "\n",
    "so class_weight={0:22, 1:1}"
   ]
  },
  {
   "attachments": {
    "image-2.png": {
     "image/png": "[encoded data removed]"
    },
    "image.png": {
     "image/png": "[encoded data removed]"
    }
   },
   "cell_type": "markdown",
   "id": "47f39559",
   "metadata": {},
   "source": [
    "# <font color='red'>F1 score vs AUC, which is the best classification metric?</font>\n",
    "(https://stephenallwright.com/f1-score-vs-auc/#:~:text=Difference%20between%20F1%20and%20AUC%20metric%20definitions&text=AUC%20is%20the%20area%20under,and%20precision%20of%20the%20model.)\n",
    "    \n",
    "**Is F1 the same as AUC?**\n",
    "<br>F1 and AUC are often discussed in similar contexts and have the same end goal, but they are not the same and have very different approaches to measuring model performance.\n",
    "\n",
    "**What is F1 score?**\n",
    "<br>F1 score (also known as F-measure, or balanced F-score) is an error metric whose score ranges from 0 to 1, where 0 is the worst and 1 is the best possible score.\n",
    "\n",
    "It is a popular metric to use for classification models as it provides robust results for **<font color='red'>imbalanced datasets </font>** and evaluates both the recall and precision ability of the model. The reason F1 is able to evaluate a model's precision and recall ability is due to the way it is derived, which is as follows:\n",
    "<div><img src=\"attachment:image.png\" width=\"250\"/></div> \n",
    "\n",
    "**What is AUC?**\n",
    "<br>AUC, or ROC AUC, stands for Area Under the Receiver Operating Characteristic Curve. The score it produces ranges from 0.5 to 1 where 1 is the best score and 0.5 means the model is as good as random.\n",
    "\n",
    "The metric is calculated as the area underneath the Receiver Operating Characteristic Curve (ROC). The ROC is a graph which maps the relationship between the true positive rate (TPR) of the model and the false positive rate (FPR). It shows at various intervals the TPR that we can expect to receive for a given trade-off with FPR.\n",
    "\n",
    "The area under this ROC curve, AUC, **<font color='red'>therefore equates to the model’s ability to predict classes correctly</font>**, as a large amount of area would show that the model can achieve a high true positive rate with a correspondingly low false positive rate.\n",
    "\n",
    "To illustrate this, let’s look at an illustration of the metric:\n",
    "<div><img src=\"attachment:image-2.png\" width=\"250\"/></div> \n",
    "\n"
   ]
  },
  {
   "cell_type": "markdown",
   "id": "a2146c58",
   "metadata": {},
   "source": [
    "## <font color='red'>What is the difference between F1 and AUC? The key differences between F1 and AUC are how they handle imbalanced datasets, the input they take, and their approach to calculating the resulting metrics.</font>\n",
    "\n",
    "**Difference between F1 and AUC metric definitions**\n",
    "<br>The way these two metrics are calculated are very different. AUC is the area under the ROC curve which is calculated at thresholds between the True Positive Rate and the False Positive Rate, whilst F1 is a straight forward calculation involving the overall recall and precision of the model.\n",
    "\n",
    "In this regard they are extremely different and tackle the problem of assessing performance from very different angles.\n",
    "\n",
    "**Difference between prediction inputs for F1 and AUC**\n",
    "<br>Another difference between F1 and AUC is the inputs they take. F1 requires predicted classes whilst AUC needs the predicted probabilities.\n",
    "\n",
    "Because of this you will need to define the probability boundary between classes before using F1, unlike with AUC, and you will find that your F1 score changes depending on where it is set.\n",
    "\n",
    "**<font color='red'>F1 score vs AUC on imbalanced datasets</font>** <br>\n",
    "<font color='red'>The last but possibly most important difference to be aware of is their behaviour on imbalanced datasets. AUC does not perform well on imbalanced datasets which often leads to misleading results, whilst F1 is still able to measure performance objectively when the class balance is skewed.</font>"
   ]
  },
  {
   "cell_type": "markdown",
   "id": "28c033ac",
   "metadata": {},
   "source": [
    "## When should I use F1 or AUC?\n",
    "\n",
    "Now that we have looked at their key differences, how does this impact when you should use one or the other?\n",
    "\n",
    "<font color='red'>F1 should be used for situations when you either have an imbalanced dataset or you need to communicate your results to end users, due to the relatively simple definition of F1 in comparison with AUC. AUC should be used when you have a balanced dataset or you don’t want to set a probability boundary between classes, which is required for F1.</font>"
   ]
  },
  {
   "cell_type": "markdown",
   "id": "03c40246",
   "metadata": {},
   "source": [
    "## Is AUC better than F1 score?\n",
    "\n",
    "The metric which is best depends on your use case and the dataset, but if one of either F1 or AUC had to be recommended then I would suggest F1 score. It is the go-to metric for classification models, and will provide reliable scores for a wide array of projects due to it’s performance on imbalanced datasets and it’s simpler interpretability."
   ]
  },
  {
   "cell_type": "code",
   "execution_count": 17,
   "id": "c9cfd429",
   "metadata": {},
   "outputs": [],
   "source": [
    "from sklearn.pipeline import Pipeline\n",
    "from sklearn.compose import ColumnTransformer\n",
    "from sklearn.model_selection import RandomizedSearchCV, GridSearchCV\n",
    "\n",
    "from sklearn.linear_model import LogisticRegression\n",
    "from sklearn.ensemble import ExtraTreesClassifier\n",
    "from sklearn.tree import DecisionTreeClassifier\n",
    "from sklearn.ensemble import RandomForestClassifier\n",
    "from sklearn.ensemble import AdaBoostClassifier\n",
    "from sklearn.ensemble import GradientBoostingClassifier\n",
    "from sklearn.neighbors import KNeighborsClassifier\n",
    "from sklearn.svm import SVC\n",
    "from sklearn.naive_bayes import BernoulliNB, ComplementNB\n",
    "\n",
    "import xgboost as xgb\n",
    "from xgboost import XGBClassifier\n",
    "from lightgbm import LGBMClassifier\n",
    "from catboost import CatBoostClassifier\n",
    "\n",
    "from sklearn.metrics import accuracy_score\n",
    "from sklearn.metrics import f1_score\n",
    "from sklearn.metrics import classification_report\n",
    "from sklearn.metrics import confusion_matrix, ConfusionMatrixDisplay\n",
    "from sklearn.metrics import roc_auc_score, roc_curve\n",
    "\n",
    "from sklearn import set_config\n",
    "set_config(display='diagram')"
   ]
  },
  {
   "cell_type": "markdown",
   "id": "cc7a316f",
   "metadata": {},
   "source": [
    "# LogisticRegression"
   ]
  },
  {
   "cell_type": "markdown",
   "id": "29bd8196",
   "metadata": {},
   "source": [
    "class sklearn.linear_model.LogisticRegression(penalty='l2', *, dual=False, tol=0.0001, C=1.0, fit_intercept=True, intercept_scaling=1, class_weight=None, random_state=None, solver='lbfgs', max_iter=100, multi_class='auto', verbose=0, warm_start=False, n_jobs=None, l1_ratio=None)\n",
    "- class_weightdict or ‘balanced’, default=None"
   ]
  },
  {
   "cell_type": "code",
   "execution_count": 18,
   "id": "5d0fe995",
   "metadata": {},
   "outputs": [
    {
     "name": "stdout",
     "output_type": "stream",
     "text": [
      "Model performance for:  LogisticRegression\n",
      "train set accuracy: 0.899\n",
      "train set f1 score: 0.786\n",
      "training set AUC score: 0.966\n",
      "\n",
      "test set accuracy: 0.801\n",
      "test set f1 score: 0.595\n",
      "test set AUC score: 0.845\n"
     ]
    }
   ],
   "source": [
    "lgr = LogisticRegression(solver='liblinear',class_weight='balanced',max_iter=500,random_state=2022)\n",
    "model_lgr = lgr.fit(X_train, y_train)\n",
    "report_loss_cf('LogisticRegression', model_lgr, X_train, y_train, X_test, y_test, graph=0)"
   ]
  },
  {
   "cell_type": "code",
   "execution_count": 19,
   "id": "1e05d38e",
   "metadata": {
    "scrolled": true
   },
   "outputs": [
    {
     "data": {
      "text/plain": [
       "{'C': 1.0,\n",
       " 'class_weight': 'balanced',\n",
       " 'dual': False,\n",
       " 'fit_intercept': True,\n",
       " 'intercept_scaling': 1,\n",
       " 'l1_ratio': None,\n",
       " 'max_iter': 500,\n",
       " 'multi_class': 'auto',\n",
       " 'n_jobs': None,\n",
       " 'penalty': 'l2',\n",
       " 'random_state': 2022,\n",
       " 'solver': 'liblinear',\n",
       " 'tol': 0.0001,\n",
       " 'verbose': 0,\n",
       " 'warm_start': False}"
      ]
     },
     "execution_count": 19,
     "metadata": {},
     "output_type": "execute_result"
    }
   ],
   "source": [
    "lgr.get_params()"
   ]
  },
  {
   "attachments": {
    "image.png": {
     "image/png": "[encoded data removed]"
    }
   },
   "cell_type": "markdown",
   "id": "8fadf760",
   "metadata": {},
   "source": [
    "The “saga” solver is often the best choice. The “liblinear” solver is used by default for historical reasons.\n",
    "![image.png](attachment:image.png)"
   ]
  },
  {
   "cell_type": "markdown",
   "id": "ce783003",
   "metadata": {},
   "source": [
    "# RandomForestClassifier"
   ]
  },
  {
   "cell_type": "markdown",
   "id": "b00c7a32",
   "metadata": {},
   "source": [
    "class sklearn.ensemble.RandomForestClassifier(n_estimators=100, *, criterion='gini', max_depth=None, min_samples_split=2, min_samples_leaf=1, min_weight_fraction_leaf=0.0, max_features='sqrt', max_leaf_nodes=None, min_impurity_decrease=0.0, bootstrap=True, oob_score=False, n_jobs=None, random_state=None, verbose=0, warm_start=False, class_weight=None, ccp_alpha=0.0, max_samples=None)"
   ]
  },
  {
   "cell_type": "code",
   "execution_count": 20,
   "id": "9b2e7c1f",
   "metadata": {
    "scrolled": true
   },
   "outputs": [
    {
     "name": "stdout",
     "output_type": "stream",
     "text": [
      "Model performance for:  RandomForestClassifier\n",
      "train set accuracy: 0.996\n",
      "train set f1 score: 0.990\n",
      "training set AUC score: 1.000\n",
      "\n",
      "test set accuracy: 0.874\n",
      "test set f1 score: 0.601\n",
      "test set AUC score: 0.877\n"
     ]
    }
   ],
   "source": [
    "rfc=RandomForestClassifier(class_weight='balanced',random_state=2022)\n",
    "model_rfc = rfc.fit(X_train, y_train)\n",
    "report_loss_cf('RandomForestClassifier', model_rfc, X_train, y_train, X_test, y_test, graph=0)"
   ]
  },
  {
   "cell_type": "code",
   "execution_count": 21,
   "id": "e9765c04",
   "metadata": {},
   "outputs": [
    {
     "data": {
      "text/plain": [
       "{'bootstrap': True,\n",
       " 'ccp_alpha': 0.0,\n",
       " 'class_weight': 'balanced',\n",
       " 'criterion': 'gini',\n",
       " 'max_depth': None,\n",
       " 'max_features': 'sqrt',\n",
       " 'max_leaf_nodes': None,\n",
       " 'max_samples': None,\n",
       " 'min_impurity_decrease': 0.0,\n",
       " 'min_samples_leaf': 1,\n",
       " 'min_samples_split': 2,\n",
       " 'min_weight_fraction_leaf': 0.0,\n",
       " 'n_estimators': 100,\n",
       " 'n_jobs': None,\n",
       " 'oob_score': False,\n",
       " 'random_state': 2022,\n",
       " 'verbose': 0,\n",
       " 'warm_start': False}"
      ]
     },
     "execution_count": 21,
     "metadata": {},
     "output_type": "execute_result"
    }
   ],
   "source": [
    "rfc.get_params()"
   ]
  },
  {
   "cell_type": "code",
   "execution_count": 22,
   "id": "493cd6ab",
   "metadata": {
    "scrolled": true
   },
   "outputs": [
    {
     "data": {
      "image/png": "[encoded data removed]",
      "text/plain": [
       "<Figure size 800x300 with 1 Axes>"
      ]
     },
     "metadata": {},
     "output_type": "display_data"
    }
   ],
   "source": [
    "importance = model_rfc.feature_importances_\n",
    "\n",
    "plt.figure(figsize=(8,3))\n",
    "plt.plot(importance)\n",
    "plt.xlabel('feature')\n",
    "plt.ylabel('feature importance score')\n",
    "plt.xticks(fontsize=8, rotation=15)\n",
    "plt.show()"
   ]
  },
  {
   "cell_type": "code",
   "execution_count": 23,
   "id": "60df46ee",
   "metadata": {},
   "outputs": [],
   "source": [
    "# Construct Data Frame of top 10 features\n",
    "def plot_feature_importance(model):\n",
    "    importance = pd.DataFrame(\n",
    "        {\n",
    "            'Feature': model.feature_names_in_,\n",
    "            'Score': model.feature_importances_\n",
    "            }\n",
    "        )\n",
    "    importance.sort_values(by='Score', ascending=False, inplace=True)\n",
    "    top_importance = importance[:10]\n",
    "    print(top_importance)\n",
    "    plt.figure(figsize=(4,3))\n",
    "    sns.set(style=\"white\", palette=\"muted\", color_codes=True)\n",
    "    sns.barplot(\n",
    "        y='Feature', \n",
    "        x='Score', \n",
    "        data=top_importance, \n",
    "        orient='h', \n",
    "        color='b'\n",
    "    ).set(title='Feature importance')"
   ]
  },
  {
   "cell_type": "code",
   "execution_count": 24,
   "id": "ba98c7ba",
   "metadata": {},
   "outputs": [
    {
     "name": "stdout",
     "output_type": "stream",
     "text": [
      "       Feature     Score\n",
      "650    Bit_650  0.024431\n",
      "314    Bit_314  0.018437\n",
      "1750  Bit_1750  0.008360\n",
      "1791  Bit_1791  0.007739\n",
      "1199  Bit_1199  0.007477\n",
      "80      Bit_80  0.006722\n",
      "1349  Bit_1349  0.006430\n",
      "1917  Bit_1917  0.006234\n",
      "807    Bit_807  0.005912\n",
      "881    Bit_881  0.005503\n"
     ]
    },
    {
     "data": {
      "image/png": "[encoded data removed]",
      "text/plain": [
       "<Figure size 400x300 with 1 Axes>"
      ]
     },
     "metadata": {},
     "output_type": "display_data"
    }
   ],
   "source": [
    "plot_feature_importance(model_rfc)"
   ]
  },
  {
   "cell_type": "markdown",
   "id": "34c86927",
   "metadata": {},
   "source": [
    "# GradientBoostingClassifier"
   ]
  },
  {
   "cell_type": "markdown",
   "id": "360651e3",
   "metadata": {},
   "source": [
    "class sklearn.ensemble.GradientBoostingClassifier(*, loss='log_loss', learning_rate=0.1, n_estimators=100, subsample=1.0, criterion='friedman_mse', min_samples_split=2, min_samples_leaf=1, min_weight_fraction_leaf=0.0, max_depth=3, min_impurity_decrease=0.0, init=None, random_state=None, max_features=None, verbose=0, max_leaf_nodes=None, warm_start=False, validation_fraction=0.1, n_iter_no_change=None, tol=0.0001, ccp_alpha=0.0)\n",
    "- sample_weight"
   ]
  },
  {
   "cell_type": "code",
   "execution_count": 25,
   "id": "c588ddf6",
   "metadata": {
    "scrolled": true
   },
   "outputs": [
    {
     "name": "stdout",
     "output_type": "stream",
     "text": [
      "Model performance for:  GradientBoostingClassifier\n",
      "train set accuracy: 0.862\n",
      "train set f1 score: 0.522\n",
      "training set AUC score: 0.884\n",
      "\n",
      "test set accuracy: 0.856\n",
      "test set f1 score: 0.497\n",
      "test set AUC score: 0.842\n"
     ]
    }
   ],
   "source": [
    "gbc=GradientBoostingClassifier(random_state=2022)\n",
    "model_gbc = gbc.fit(X_train, y_train)\n",
    "report_loss_cf('GradientBoostingClassifier',model_gbc,X_train,y_train,X_test,y_test,graph=0)"
   ]
  },
  {
   "cell_type": "code",
   "execution_count": 26,
   "id": "de9a963b",
   "metadata": {},
   "outputs": [
    {
     "data": {
      "text/plain": [
       "{'ccp_alpha': 0.0,\n",
       " 'criterion': 'friedman_mse',\n",
       " 'init': None,\n",
       " 'learning_rate': 0.1,\n",
       " 'loss': 'log_loss',\n",
       " 'max_depth': 3,\n",
       " 'max_features': None,\n",
       " 'max_leaf_nodes': None,\n",
       " 'min_impurity_decrease': 0.0,\n",
       " 'min_samples_leaf': 1,\n",
       " 'min_samples_split': 2,\n",
       " 'min_weight_fraction_leaf': 0.0,\n",
       " 'n_estimators': 100,\n",
       " 'n_iter_no_change': None,\n",
       " 'random_state': 2022,\n",
       " 'subsample': 1.0,\n",
       " 'tol': 0.0001,\n",
       " 'validation_fraction': 0.1,\n",
       " 'verbose': 0,\n",
       " 'warm_start': False}"
      ]
     },
     "execution_count": 26,
     "metadata": {},
     "output_type": "execute_result"
    }
   ],
   "source": [
    "gbc.get_params()"
   ]
  },
  {
   "cell_type": "markdown",
   "id": "1b361ebe",
   "metadata": {},
   "source": [
    "# XGBClassifier"
   ]
  },
  {
   "cell_type": "markdown",
   "id": "bbe5d840",
   "metadata": {},
   "source": [
    "XGBClassifier(base_score=0.5, booster='gbtree', colsample_bylevel=1,\n",
    "       colsample_bynode=1, colsample_bytree=1, gamma=0, learning_rate=0.1,\n",
    "       max_delta_step=0, max_depth=3, min_child_weight=1, missing=None,\n",
    "       n_estimators=100, n_jobs=1, nthread=None,\n",
    "       objective='multi:softprob', random_state=0, reg_alpha=0,\n",
    "       reg_lambda=1, scale_pos_weight=1, seed=None, silent=None,\n",
    "       subsample=1, verbosity=1)\n",
    "- In general, we tend to set scale_pos_weight proportionally to the imbalance. For example, if 20% of the images contain a cat, we would set scale_positive_weight to 4."
   ]
  },
  {
   "cell_type": "code",
   "execution_count": 27,
   "id": "484f0ac8",
   "metadata": {},
   "outputs": [
    {
     "name": "stdout",
     "output_type": "stream",
     "text": [
      "Model performance for:  XGBClassifier\n",
      "train set accuracy: 0.941\n",
      "train set f1 score: 0.867\n",
      "training set AUC score: 0.987\n",
      "\n",
      "test set accuracy: 0.840\n",
      "test set f1 score: 0.639\n",
      "test set AUC score: 0.871\n"
     ]
    }
   ],
   "source": [
    "xgbc=XGBClassifier(scale_pos_weight=4, random_state=2022)\n",
    "model_xgbc = xgbc.fit(X_train, y_train)\n",
    "report_loss_cf('XGBClassifier', model_xgbc, X_train, y_train, X_test, y_test, graph=0)"
   ]
  },
  {
   "cell_type": "code",
   "execution_count": 28,
   "id": "43bde5c8",
   "metadata": {},
   "outputs": [
    {
     "data": {
      "text/plain": [
       "{'objective': 'binary:logistic',\n",
       " 'use_label_encoder': False,\n",
       " 'base_score': 0.5,\n",
       " 'booster': 'gbtree',\n",
       " 'callbacks': None,\n",
       " 'colsample_bylevel': 1,\n",
       " 'colsample_bynode': 1,\n",
       " 'colsample_bytree': 1,\n",
       " 'early_stopping_rounds': None,\n",
       " 'enable_categorical': False,\n",
       " 'eval_metric': None,\n",
       " 'gamma': 0,\n",
       " 'gpu_id': -1,\n",
       " 'grow_policy': 'depthwise',\n",
       " 'importance_type': None,\n",
       " 'interaction_constraints': '',\n",
       " 'learning_rate': 0.300000012,\n",
       " 'max_bin': 256,\n",
       " 'max_cat_to_onehot': 4,\n",
       " 'max_delta_step': 0,\n",
       " 'max_depth': 6,\n",
       " 'max_leaves': 0,\n",
       " 'min_child_weight': 1,\n",
       " 'missing': nan,\n",
       " 'monotone_constraints': '()',\n",
       " 'n_estimators': 100,\n",
       " 'n_jobs': 0,\n",
       " 'num_parallel_tree': 1,\n",
       " 'predictor': 'auto',\n",
       " 'random_state': 2022,\n",
       " 'reg_alpha': 0,\n",
       " 'reg_lambda': 1,\n",
       " 'sampling_method': 'uniform',\n",
       " 'scale_pos_weight': 4,\n",
       " 'subsample': 1,\n",
       " 'tree_method': 'exact',\n",
       " 'validate_parameters': 1,\n",
       " 'verbosity': None}"
      ]
     },
     "execution_count": 28,
     "metadata": {},
     "output_type": "execute_result"
    }
   ],
   "source": [
    "xgbc.get_params()"
   ]
  },
  {
   "cell_type": "markdown",
   "id": "306a0b84",
   "metadata": {},
   "source": [
    "# LGBMClassifier"
   ]
  },
  {
   "cell_type": "markdown",
   "id": "83f6749f",
   "metadata": {},
   "source": [
    "classlightgbm.LGBMClassifier(boosting_type='gbdt', num_leaves=31, max_depth=-1, learning_rate=0.1, n_estimators=100, subsample_for_bin=200000, objective=None, class_weight=None, min_split_gain=0.0, min_child_weight=0.001, min_child_samples=20, subsample=1.0, subsample_freq=0, colsample_bytree=1.0, reg_alpha=0.0, reg_lambda=0.0, random_state=None, n_jobs=None, importance_type='split', **kwargs)"
   ]
  },
  {
   "cell_type": "code",
   "execution_count": 29,
   "id": "ca6e97a2",
   "metadata": {},
   "outputs": [
    {
     "name": "stdout",
     "output_type": "stream",
     "text": [
      "Model performance for:  LightGBMClassifier\n",
      "train set accuracy: 0.907\n",
      "train set f1 score: 0.798\n",
      "training set AUC score: 0.970\n",
      "\n",
      "test set accuracy: 0.834\n",
      "test set f1 score: 0.640\n",
      "test set AUC score: 0.873\n"
     ]
    }
   ],
   "source": [
    "light=LGBMClassifier(objective='binary',class_weight='balanced',random_state=2022)\n",
    "model_light = light.fit(X_train, y_train)\n",
    "report_loss_cf('LightGBMClassifier', model_light, X_train, y_train, X_test, y_test, graph=0)"
   ]
  },
  {
   "cell_type": "markdown",
   "id": "3069f804",
   "metadata": {},
   "source": [
    "# CatBoostClassifier"
   ]
  },
  {
   "cell_type": "markdown",
   "id": "ef13ec71",
   "metadata": {},
   "source": [
    "{'nan_mode': 'Min', 'eval_metric': 'Logloss', 'iterations': 1000, 'sampling_frequency': 'PerTree', 'leaf_estimation_method': 'Newton', 'grow_policy': 'SymmetricTree', 'penalties_coefficient': 1, 'boosting_type': 'Plain', 'model_shrink_mode': 'Constant', 'feature_border_type': 'GreedyLogSum', 'bayesian_matrix_reg': 0.10000000149011612, 'l2_leaf_reg': 3, 'random_strength': 1, 'rsm': 1, 'boost_from_average': False, 'model_size_reg': 0.5, 'pool_metainfo_options': {'tags': {}}, 'subsample': 1, 'use_best_model': False, 'class_names': [0, 1], 'random_seed': 0, 'depth': 6, 'posterior_sampling': False, 'border_count': 254, 'classes_count': 0, 'auto_class_weights': 'None', 'sparse_features_conflict_fraction': 0, 'leaf_estimation_backtracking': 'AnyImprovement', 'best_model_min_trees': 1, 'model_shrink_rate': 0, 'min_data_in_leaf': 1, 'loss_function': 'Logloss', 'learning_rate': 0.0028669999446719885, 'score_function': 'Cosine', 'task_type': 'CPU', 'leaf_estimation_iterations': 10, 'bootstrap_type': 'MVS', 'max_leaves': 64}"
   ]
  },
  {
   "cell_type": "code",
   "execution_count": 30,
   "id": "16ad3745",
   "metadata": {
    "scrolled": true
   },
   "outputs": [
    {
     "name": "stderr",
     "output_type": "stream",
     "text": [
      "/Users/xiaofwu-m1/opt/anaconda3/lib/python3.9/site-packages/catboost/core.py:1411: FutureWarning: iteritems is deprecated and will be removed in a future version. Use .items instead.\n",
      "  self._init_pool(data, label, cat_features, text_features, embedding_features, embedding_features_data, pairs, weight,\n"
     ]
    },
    {
     "name": "stdout",
     "output_type": "stream",
     "text": [
      "Model performance for:  CatBoostClassifier\n",
      "train set accuracy: 0.914\n",
      "train set f1 score: 0.811\n",
      "training set AUC score: 0.970\n",
      "\n",
      "test set accuracy: 0.835\n",
      "test set f1 score: 0.639\n",
      "test set AUC score: 0.876\n"
     ]
    },
    {
     "name": "stderr",
     "output_type": "stream",
     "text": [
      "/Users/xiaofwu-m1/opt/anaconda3/lib/python3.9/site-packages/catboost/core.py:1411: FutureWarning: iteritems is deprecated and will be removed in a future version. Use .items instead.\n",
      "  self._init_pool(data, label, cat_features, text_features, embedding_features, embedding_features_data, pairs, weight,\n"
     ]
    }
   ],
   "source": [
    "cat=CatBoostClassifier(auto_class_weights='Balanced', verbose=False)\n",
    "model_cat = cat.fit(X_train, y_train)\n",
    "report_loss_cf('CatBoostClassifier', model_cat, X_train, y_train, X_test, y_test, graph=0)"
   ]
  },
  {
   "cell_type": "markdown",
   "id": "37b323cd",
   "metadata": {},
   "source": [
    "# Support Vector Classification"
   ]
  },
  {
   "cell_type": "markdown",
   "id": "c6b1def1",
   "metadata": {},
   "source": [
    "class sklearn.svm.SVC(*, C=1.0, kernel='rbf', degree=3, gamma='scale', coef0=0.0, shrinking=True, probability=False, tol=0.001, cache_size=200, class_weight=None, verbose=False, max_iter=-1, decision_function_shape='ovr', break_ties=False, random_state=None)"
   ]
  },
  {
   "cell_type": "code",
   "execution_count": 31,
   "id": "b6e74482",
   "metadata": {
    "scrolled": true
   },
   "outputs": [
    {
     "name": "stdout",
     "output_type": "stream",
     "text": [
      "Model performance for:  Support Vector Classifier\n",
      "train set accuracy: 0.910\n",
      "train set f1 score: 0.810\n",
      "training set AUC score: 0.960\n",
      "\n",
      "test set accuracy: 0.785\n",
      "test set f1 score: 0.568\n",
      "test set AUC score: 0.820\n"
     ]
    }
   ],
   "source": [
    "#very slow\n",
    "svc=SVC(kernel='linear', class_weight='balanced',probability=True)\n",
    "model_svc = svc.fit(X_train, y_train)\n",
    "report_loss_cf('Support Vector Classifier', model_svc, X_train, y_train, X_test, y_test, graph=0)"
   ]
  },
  {
   "cell_type": "markdown",
   "id": "8c982223",
   "metadata": {},
   "source": [
    "# BernoulliNB Naive Bayes Classifier\n",
    "- good for binary classification"
   ]
  },
  {
   "cell_type": "markdown",
   "id": "b2980a63",
   "metadata": {},
   "source": [
    "class sklearn.naive_bayes.BernoulliNB(*, alpha=1.0, binarize=0.0, fit_prior=True, class_prior=None)"
   ]
  },
  {
   "cell_type": "code",
   "execution_count": 32,
   "id": "f93b7174",
   "metadata": {
    "scrolled": true
   },
   "outputs": [
    {
     "name": "stdout",
     "output_type": "stream",
     "text": [
      "Model performance for:  BernoulliNB Naive Bayes Classifier\n",
      "train set accuracy: 0.824\n",
      "train set f1 score: 0.607\n",
      "training set AUC score: 0.856\n",
      "\n",
      "test set accuracy: 0.799\n",
      "test set f1 score: 0.564\n",
      "test set AUC score: 0.823\n"
     ]
    }
   ],
   "source": [
    "bnbc=BernoulliNB()\n",
    "model_bnbc = bnbc.fit(X_train, y_train)\n",
    "report_loss_cf('BernoulliNB Naive Bayes Classifier', model_bnbc, X_train, y_train, X_test, y_test, graph=0)"
   ]
  },
  {
   "cell_type": "markdown",
   "id": "9d9afd4b",
   "metadata": {},
   "source": [
    "# KNeighborsClassifier"
   ]
  },
  {
   "cell_type": "markdown",
   "id": "29980c84",
   "metadata": {},
   "source": [
    "class sklearn.neighbors.KNeighborsClassifier(n_neighbors=5, *, weights='uniform', algorithm='auto', leaf_size=30, p=2, metric='minkowski', metric_params=None, n_jobs=None)"
   ]
  },
  {
   "cell_type": "code",
   "execution_count": 33,
   "id": "9a6d54d0",
   "metadata": {},
   "outputs": [
    {
     "name": "stdout",
     "output_type": "stream",
     "text": [
      "Model performance for:  KNeighborsClassifier\n",
      "train set accuracy: 0.996\n",
      "train set f1 score: 0.990\n",
      "training set AUC score: 1.000\n",
      "\n",
      "test set accuracy: 0.859\n",
      "test set f1 score: 0.561\n",
      "test set AUC score: 0.819\n"
     ]
    }
   ],
   "source": [
    "knc=KNeighborsClassifier(weights='distance')\n",
    "model_knc = knc.fit(X_train, y_train)\n",
    "report_loss_cf('KNeighborsClassifier', model_knc, X_train, y_train, X_test, y_test, graph=0)"
   ]
  },
  {
   "cell_type": "markdown",
   "id": "a1179932",
   "metadata": {},
   "source": [
    "|Method|Train f1|Train AUC|Train accuracy|Test f1|Test AUC|Test accuracy|\n",
    "|----------|:---:|:--------:|:---------:|:------:|:--:|:----:|\n",
    "|CatBoost Classifier|0.806|0.971|0.911|0.647|0.872|0.843|\n",
    "|XGBoost Classifier|0.866|0.987|0.941|0.645|0.860|0.848|\n",
    "|LightGBM Classifier|0.802|0.972|0.908|0.634|0.870|0.834|\n",
    "|Logistic Regression|0.785|0.967|0.898|0.605|0.839|0.816|\n",
    "|RandomForest Classifier|0.991|0.999|0.997|0.577|0.873|0.868|\n",
    "|Support Vector Classifier|0.808|0.962|0.910|0.577|0.816|0.799|\n",
    "|BernoulliNB Naive Bayes Classifier|0.617|0.856|0.832|0.573|0.830|0.813|\n",
    "|KNeighbors Classifier|0.991|1.000|0.997|0.544|0.816|0.858|\n",
    "|GradientBoosting Classifier|0.531|0.888|0.865|0.483|0.846|0.854|"
   ]
  },
  {
   "cell_type": "code",
   "execution_count": 34,
   "id": "c585e55b",
   "metadata": {
    "scrolled": true
   },
   "outputs": [
    {
     "name": "stderr",
     "output_type": "stream",
     "text": [
      "100%|██████████| 29/29 [06:19<00:00, 13.09s/it]"
     ]
    },
    {
     "name": "stdout",
     "output_type": "stream",
     "text": [
      "                               Accuracy  Balanced Accuracy  ROC AUC  F1 Score  \\\n",
      "Model                                                                           \n",
      "NearestCentroid                    0.79               0.75     0.75      0.80   \n",
      "XGBClassifier                      0.88               0.74     0.74      0.87   \n",
      "BernoulliNB                        0.80               0.74     0.74      0.81   \n",
      "LinearDiscriminantAnalysis         0.84               0.74     0.74      0.84   \n",
      "RidgeClassifierCV                  0.85               0.74     0.74      0.85   \n",
      "RidgeClassifier                    0.85               0.74     0.74      0.85   \n",
      "LGBMClassifier                     0.87               0.73     0.73      0.86   \n",
      "LogisticRegression                 0.81               0.72     0.72      0.81   \n",
      "Perceptron                         0.81               0.72     0.72      0.81   \n",
      "ExtraTreesClassifier               0.87               0.72     0.72      0.86   \n",
      "BaggingClassifier                  0.86               0.72     0.72      0.85   \n",
      "PassiveAggressiveClassifier        0.80               0.72     0.72      0.81   \n",
      "DecisionTreeClassifier             0.82               0.71     0.71      0.82   \n",
      "SGDClassifier                      0.81               0.71     0.71      0.81   \n",
      "LinearSVC                          0.79               0.70     0.70      0.80   \n",
      "RandomForestClassifier             0.87               0.70     0.70      0.85   \n",
      "SVC                                0.87               0.69     0.69      0.85   \n",
      "ExtraTreeClassifier                0.81               0.69     0.69      0.81   \n",
      "KNeighborsClassifier               0.85               0.67     0.67      0.83   \n",
      "AdaBoostClassifier                 0.84               0.67     0.67      0.82   \n",
      "GaussianNB                         0.58               0.66     0.66      0.62   \n",
      "QuadraticDiscriminantAnalysis      0.82               0.61     0.61      0.79   \n",
      "LabelSpreading                     0.81               0.53     0.53      0.74   \n",
      "LabelPropagation                   0.81               0.53     0.53      0.74   \n",
      "CalibratedClassifierCV             0.80               0.52     0.52      0.73   \n",
      "DummyClassifier                    0.80               0.50     0.50      0.71   \n",
      "\n",
      "                               Time Taken  \n",
      "Model                                      \n",
      "NearestCentroid                      1.22  \n",
      "XGBClassifier                       30.72  \n",
      "BernoulliNB                          1.76  \n",
      "LinearDiscriminantAnalysis          14.80  \n",
      "RidgeClassifierCV                   12.99  \n",
      "RidgeClassifier                      3.05  \n",
      "LGBMClassifier                       3.30  \n",
      "LogisticRegression                   2.17  \n",
      "Perceptron                           2.41  \n",
      "ExtraTreesClassifier                 9.96  \n",
      "BaggingClassifier                   25.06  \n",
      "PassiveAggressiveClassifier          3.29  \n",
      "DecisionTreeClassifier               4.03  \n",
      "SGDClassifier                        8.99  \n",
      "LinearSVC                           25.47  \n",
      "RandomForestClassifier               8.19  \n",
      "SVC                                 82.88  \n",
      "ExtraTreeClassifier                  1.09  \n",
      "KNeighborsClassifier                 5.54  \n",
      "AdaBoostClassifier                   6.46  \n",
      "GaussianNB                           1.46  \n",
      "QuadraticDiscriminantAnalysis       16.28  \n",
      "LabelSpreading                      13.36  \n",
      "LabelPropagation                    11.34  \n",
      "CalibratedClassifierCV              80.19  \n",
      "DummyClassifier                      1.01  \n"
     ]
    },
    {
     "name": "stderr",
     "output_type": "stream",
     "text": [
      "\n"
     ]
    }
   ],
   "source": [
    "import lazypredict\n",
    "from lazypredict.Supervised import LazyClassifier\n",
    "clf = LazyClassifier(verbose=0,ignore_warnings=True, custom_metric=None)\n",
    "models, predictions = clf.fit(X_train, X_test, y_train, y_test)\n",
    "\n",
    "print(models)"
   ]
  },
  {
   "cell_type": "markdown",
   "id": "f6872c56",
   "metadata": {},
   "source": [
    "# <font color='red'>Best choices are catBoost,  XGBoost, and LightGBM Classifier. We need to tune these three model. But need to consider 1) catBoost is not very popular? 2) XGBoost takes significant longer time to train than LightGBM. 3) If similar performance, lightGBM should be chosen as the model"
   ]
  },
  {
   "cell_type": "markdown",
   "id": "b55ff03a",
   "metadata": {},
   "source": [
    "# LightGBM Classifier. We need to tune the model."
   ]
  },
  {
   "cell_type": "markdown",
   "id": "279c1b7c",
   "metadata": {},
   "source": [
    "classlightgbm.LGBMClassifier(boosting_type='gbdt', num_leaves=31, max_depth=-1, learning_rate=0.1, n_estimators=100, subsample_for_bin=200000, objective=None, class_weight=None, min_split_gain=0.0, min_child_weight=0.001, min_child_samples=20, subsample=1.0, subsample_freq=0, colsample_bytree=1.0, reg_alpha=0.0, reg_lambda=0.0, random_state=None, n_jobs=None, importance_type='split', **kwargs)"
   ]
  },
  {
   "cell_type": "code",
   "execution_count": 35,
   "id": "9e93284e",
   "metadata": {},
   "outputs": [
    {
     "data": {
      "text/plain": [
       "{'boosting_type': 'gbdt',\n",
       " 'class_weight': 'balanced',\n",
       " 'colsample_bytree': 1.0,\n",
       " 'importance_type': 'split',\n",
       " 'learning_rate': 0.1,\n",
       " 'max_depth': -1,\n",
       " 'min_child_samples': 20,\n",
       " 'min_child_weight': 0.001,\n",
       " 'min_split_gain': 0.0,\n",
       " 'n_estimators': 100,\n",
       " 'n_jobs': -1,\n",
       " 'num_leaves': 31,\n",
       " 'objective': 'binary',\n",
       " 'random_state': 2022,\n",
       " 'reg_alpha': 0.0,\n",
       " 'reg_lambda': 0.0,\n",
       " 'silent': 'warn',\n",
       " 'subsample': 1.0,\n",
       " 'subsample_for_bin': 200000,\n",
       " 'subsample_freq': 0}"
      ]
     },
     "execution_count": 35,
     "metadata": {},
     "output_type": "execute_result"
    }
   ],
   "source": [
    "light.get_params()"
   ]
  },
  {
   "cell_type": "code",
   "execution_count": 36,
   "id": "371952de",
   "metadata": {
    "scrolled": true
   },
   "outputs": [
    {
     "name": "stdout",
     "output_type": "stream",
     "text": [
      "Model performance for:  LightGBMClassifier\n",
      "train set accuracy: 0.907\n",
      "train set f1 score: 0.798\n",
      "training set AUC score: 0.970\n",
      "\n",
      "test set accuracy: 0.834\n",
      "test set f1 score: 0.640\n",
      "test set AUC score: 0.873\n"
     ]
    }
   ],
   "source": [
    "light=LGBMClassifier(class_weight='balanced', objective='binary')\n",
    "model_light = light.fit(X_train, y_train)\n",
    "report_loss_cf('LightGBMClassifier', model_light, X_train, y_train, X_test, y_test, graph=0)"
   ]
  },
  {
   "cell_type": "markdown",
   "id": "ef1c7759",
   "metadata": {},
   "source": [
    "Strategy for overfitting\n",
    "\n",
    "1. Grow Shallower Trees:\n",
    "    - Decrease max_depth\n",
    "    - Decrease num_leaves\n",
    "    - Increase min_gain_to_split\n",
    "    - Increase min_data_in_leaf and min_sum_hessian_in_leaf\n",
    "2. Grow Less Trees\n",
    "    - Decrease num_iterations\n",
    "    - Use Early Stopping\n",
    "    - Consider Fewer Splits\n",
    "    - Enable Feature Pre-Filtering When Creating Dataset\n",
    "    - Decrease max_bin or max_bin_by_feature When Creating Dataset\n",
    "    - Increase min_data_in_bin When Creating Dataset\n",
    "    - Decrease feature_fraction\n",
    "    - Decrease max_cat_threshold\n",
    "3. Use Less Data\n",
    "    - Use Bagging"
   ]
  },
  {
   "cell_type": "markdown",
   "id": "7ae6b8cb",
   "metadata": {},
   "source": [
    "### In general, for Better Accuracy: \n",
    "\n",
    "- Use large max_bin (may be slower)\n",
    "- Use small learning_rate with large num_iterations\n",
    "- Use large num_leaves (may cause over-fitting)\n",
    "- Use bigger training data\n",
    "- Try dart"
   ]
  },
  {
   "cell_type": "markdown",
   "id": "81e6c37d",
   "metadata": {},
   "source": [
    "### In general, deal with Over-fitting: \n",
    "- Use small max_bin\n",
    "- Use small num_leaves\n",
    "- Use min_data_in_leaf and min_sum_hessian_in_leaf\n",
    "- Use bagging by set bagging_fraction and bagging_freq\n",
    "- Use feature sub-sampling by set feature_fraction\n",
    "- Use bigger training data\n",
    "- Try lambda_l1, lambda_l2 and min_gain_to_split for regularization\n",
    "- Try max_depth to avoid growing deep tree\n",
    "- Try extra_trees\n",
    "- Try increasing path_smooth"
   ]
  },
  {
   "cell_type": "code",
   "execution_count": 37,
   "id": "9f1329e8",
   "metadata": {},
   "outputs": [
    {
     "ename": "NameError",
     "evalue": "name 'sp_randint' is not defined",
     "output_type": "error",
     "traceback": [
      "\u001b[0;31m---------------------------------------------------------------------------\u001b[0m",
      "\u001b[0;31mNameError\u001b[0m                                 Traceback (most recent call last)",
      "\u001b[1;32m/Users/xiaofwu-m1/Desktop/GitHub/ML-chemical-screen-P450/P450_2d6 screen.ipynb Cell 73\u001b[0m in \u001b[0;36m<cell line: 5>\u001b[0;34m()\u001b[0m\n\u001b[1;32m      <a href='vscode-notebook-cell:/Users/xiaofwu-m1/Desktop/GitHub/ML-chemical-screen-P450/P450_2d6%20screen.ipynb#Y132sZmlsZQ%3D%3D?line=0'>1</a>\u001b[0m \u001b[39m# https://dagshub.com/nipdep/How-to-Win-a-Data-Science-Competition-Learn-from-Top-Kagglers/src/master/final_project/srcipts/lightgbm-hyperparameter-optimisation-lb-0-761.ipynb\u001b[39;00m\n\u001b[1;32m      <a href='vscode-notebook-cell:/Users/xiaofwu-m1/Desktop/GitHub/ML-chemical-screen-P450/P450_2d6%20screen.ipynb#Y132sZmlsZQ%3D%3D?line=1'>2</a>\u001b[0m \u001b[39m# Set up HyperParameter search\u001b[39;00m\n\u001b[1;32m      <a href='vscode-notebook-cell:/Users/xiaofwu-m1/Desktop/GitHub/ML-chemical-screen-P450/P450_2d6%20screen.ipynb#Y132sZmlsZQ%3D%3D?line=2'>3</a>\u001b[0m \u001b[39m# We use random search, which is more flexible and more efficient than a grid search\u001b[39;00m\n\u001b[0;32m----> <a href='vscode-notebook-cell:/Users/xiaofwu-m1/Desktop/GitHub/ML-chemical-screen-P450/P450_2d6%20screen.ipynb#Y132sZmlsZQ%3D%3D?line=4'>5</a>\u001b[0m param_test \u001b[39m=\u001b[39m{\u001b[39m'\u001b[39m\u001b[39mnum_leaves\u001b[39m\u001b[39m'\u001b[39m: sp_randint(\u001b[39m6\u001b[39m, \u001b[39m50\u001b[39m), \n\u001b[1;32m      <a href='vscode-notebook-cell:/Users/xiaofwu-m1/Desktop/GitHub/ML-chemical-screen-P450/P450_2d6%20screen.ipynb#Y132sZmlsZQ%3D%3D?line=5'>6</a>\u001b[0m              \u001b[39m'\u001b[39m\u001b[39mmin_child_samples\u001b[39m\u001b[39m'\u001b[39m: sp_randint(\u001b[39m100\u001b[39m, \u001b[39m500\u001b[39m), \n\u001b[1;32m      <a href='vscode-notebook-cell:/Users/xiaofwu-m1/Desktop/GitHub/ML-chemical-screen-P450/P450_2d6%20screen.ipynb#Y132sZmlsZQ%3D%3D?line=6'>7</a>\u001b[0m              \u001b[39m'\u001b[39m\u001b[39mmin_child_weight\u001b[39m\u001b[39m'\u001b[39m: [\u001b[39m1e-5\u001b[39m, \u001b[39m1e-3\u001b[39m, \u001b[39m1e-2\u001b[39m, \u001b[39m1e-1\u001b[39m, \u001b[39m1\u001b[39m, \u001b[39m1e1\u001b[39m, \u001b[39m1e2\u001b[39m, \u001b[39m1e3\u001b[39m, \u001b[39m1e4\u001b[39m],\n\u001b[1;32m      <a href='vscode-notebook-cell:/Users/xiaofwu-m1/Desktop/GitHub/ML-chemical-screen-P450/P450_2d6%20screen.ipynb#Y132sZmlsZQ%3D%3D?line=7'>8</a>\u001b[0m              \u001b[39m'\u001b[39m\u001b[39msubsample\u001b[39m\u001b[39m'\u001b[39m: sp_uniform(loc\u001b[39m=\u001b[39m\u001b[39m0.2\u001b[39m, scale\u001b[39m=\u001b[39m\u001b[39m0.8\u001b[39m), \n\u001b[1;32m      <a href='vscode-notebook-cell:/Users/xiaofwu-m1/Desktop/GitHub/ML-chemical-screen-P450/P450_2d6%20screen.ipynb#Y132sZmlsZQ%3D%3D?line=8'>9</a>\u001b[0m              \u001b[39m'\u001b[39m\u001b[39mcolsample_bytree\u001b[39m\u001b[39m'\u001b[39m: sp_uniform(loc\u001b[39m=\u001b[39m\u001b[39m0.4\u001b[39m, scale\u001b[39m=\u001b[39m\u001b[39m0.6\u001b[39m),\n\u001b[1;32m     <a href='vscode-notebook-cell:/Users/xiaofwu-m1/Desktop/GitHub/ML-chemical-screen-P450/P450_2d6%20screen.ipynb#Y132sZmlsZQ%3D%3D?line=9'>10</a>\u001b[0m              \u001b[39m'\u001b[39m\u001b[39mreg_alpha\u001b[39m\u001b[39m'\u001b[39m: [\u001b[39m0\u001b[39m, \u001b[39m1e-1\u001b[39m, \u001b[39m1\u001b[39m, \u001b[39m2\u001b[39m, \u001b[39m5\u001b[39m, \u001b[39m7\u001b[39m, \u001b[39m10\u001b[39m, \u001b[39m50\u001b[39m, \u001b[39m100\u001b[39m],\n\u001b[1;32m     <a href='vscode-notebook-cell:/Users/xiaofwu-m1/Desktop/GitHub/ML-chemical-screen-P450/P450_2d6%20screen.ipynb#Y132sZmlsZQ%3D%3D?line=10'>11</a>\u001b[0m              \u001b[39m'\u001b[39m\u001b[39mreg_lambda\u001b[39m\u001b[39m'\u001b[39m: [\u001b[39m0\u001b[39m, \u001b[39m1e-1\u001b[39m, \u001b[39m1\u001b[39m, \u001b[39m5\u001b[39m, \u001b[39m10\u001b[39m, \u001b[39m20\u001b[39m, \u001b[39m50\u001b[39m, \u001b[39m100\u001b[39m]}\n\u001b[1;32m     <a href='vscode-notebook-cell:/Users/xiaofwu-m1/Desktop/GitHub/ML-chemical-screen-P450/P450_2d6%20screen.ipynb#Y132sZmlsZQ%3D%3D?line=12'>13</a>\u001b[0m clf \u001b[39m=\u001b[39m lgb\u001b[39m.\u001b[39mLGBMClassifier(max_depth\u001b[39m=\u001b[39m\u001b[39m-\u001b[39m\u001b[39m1\u001b[39m, random_state\u001b[39m=\u001b[39m\u001b[39m314\u001b[39m, silent\u001b[39m=\u001b[39m\u001b[39mTrue\u001b[39;00m, metric\u001b[39m=\u001b[39m\u001b[39m'\u001b[39m\u001b[39mNone\u001b[39m\u001b[39m'\u001b[39m, n_jobs\u001b[39m=\u001b[39m\u001b[39m4\u001b[39m, n_estimators\u001b[39m=\u001b[39m\u001b[39m5000\u001b[39m)\n\u001b[1;32m     <a href='vscode-notebook-cell:/Users/xiaofwu-m1/Desktop/GitHub/ML-chemical-screen-P450/P450_2d6%20screen.ipynb#Y132sZmlsZQ%3D%3D?line=13'>14</a>\u001b[0m gs \u001b[39m=\u001b[39m RandomizedSearchCV(\n\u001b[1;32m     <a href='vscode-notebook-cell:/Users/xiaofwu-m1/Desktop/GitHub/ML-chemical-screen-P450/P450_2d6%20screen.ipynb#Y132sZmlsZQ%3D%3D?line=14'>15</a>\u001b[0m     estimator\u001b[39m=\u001b[39mclf, param_distributions\u001b[39m=\u001b[39mparam_test, \n\u001b[1;32m     <a href='vscode-notebook-cell:/Users/xiaofwu-m1/Desktop/GitHub/ML-chemical-screen-P450/P450_2d6%20screen.ipynb#Y132sZmlsZQ%3D%3D?line=15'>16</a>\u001b[0m     n_iter\u001b[39m=\u001b[39mn_HP_points_to_test,\n\u001b[0;32m   (...)\u001b[0m\n\u001b[1;32m     <a href='vscode-notebook-cell:/Users/xiaofwu-m1/Desktop/GitHub/ML-chemical-screen-P450/P450_2d6%20screen.ipynb#Y132sZmlsZQ%3D%3D?line=19'>20</a>\u001b[0m     random_state\u001b[39m=\u001b[39m\u001b[39m314\u001b[39m,\n\u001b[1;32m     <a href='vscode-notebook-cell:/Users/xiaofwu-m1/Desktop/GitHub/ML-chemical-screen-P450/P450_2d6%20screen.ipynb#Y132sZmlsZQ%3D%3D?line=20'>21</a>\u001b[0m     verbose\u001b[39m=\u001b[39m\u001b[39mTrue\u001b[39;00m)\n",
      "\u001b[0;31mNameError\u001b[0m: name 'sp_randint' is not defined"
     ]
    }
   ],
   "source": [
    "# https://dagshub.com/nipdep/How-to-Win-a-Data-Science-Competition-Learn-from-Top-Kagglers/src/master/final_project/srcipts/lightgbm-hyperparameter-optimisation-lb-0-761.ipynb\n",
    "# Set up HyperParameter search\n",
    "# We use random search, which is more flexible and more efficient than a grid search\n",
    "\n",
    "param_test ={'num_leaves': sp_randint(6, 50), \n",
    "             'min_child_samples': sp_randint(100, 500), \n",
    "             'min_child_weight': [1e-5, 1e-3, 1e-2, 1e-1, 1, 1e1, 1e2, 1e3, 1e4],\n",
    "             'subsample': sp_uniform(loc=0.2, scale=0.8), \n",
    "             'colsample_bytree': sp_uniform(loc=0.4, scale=0.6),\n",
    "             'reg_alpha': [0, 1e-1, 1, 2, 5, 7, 10, 50, 100],\n",
    "             'reg_lambda': [0, 1e-1, 1, 5, 10, 20, 50, 100]}\n",
    "\n",
    "clf = lgb.LGBMClassifier(max_depth=-1, random_state=314, silent=True, metric='None', n_jobs=4, n_estimators=5000)\n",
    "gs = RandomizedSearchCV(\n",
    "    estimator=clf, param_distributions=param_test, \n",
    "    n_iter=n_HP_points_to_test,\n",
    "    scoring='roc_auc',\n",
    "    cv=3,\n",
    "    refit=True,\n",
    "    random_state=314,\n",
    "    verbose=True)"
   ]
  },
  {
   "cell_type": "code",
   "execution_count": null,
   "id": "d46b2a6d",
   "metadata": {},
   "outputs": [],
   "source": [
    "\n",
    "#Setting the range for class weights\n",
    "weights = np.linspace(0.0,0.99,200)\n",
    "\n",
    "#Creating a dictionary grid for grid search\n",
    "param_test ={'num_leaves': sp_randint(6, 50), \n",
    "             'min_child_samples': sp_randint(100, 500), \n",
    "             'min_child_weight': [1e-5, 1e-3, 1e-2, 1e-1, 1, 1e1, 1e2, 1e3, 1e4],\n",
    "             'subsample': sp_uniform(loc=0.2, scale=0.8), \n",
    "             'colsample_bytree': sp_uniform(loc=0.4, scale=0.6),\n",
    "             'reg_alpha': [0, 1e-1, 1, 2, 5, 7, 10, 50, 100],\n",
    "             'reg_lambda': [0, 1e-1, 1, 5, 10, 20, 50, 100]}\n",
    "\n",
    "gscv = GridSearchCV(estimator= LGBMClassifier(class_weight='balanced',objective='binary'), \n",
    "                          param_grid= param_grid,\n",
    "                          cv=StratifiedKFold(), \n",
    "                          n_jobs=-1, \n",
    "                          scoring='f1')\n",
    "gscv.fit(X_train, y_train)\n",
    "gscv.best_params_\n",
    "#Ploting the score for different values of weight\n",
    "# sns.set_style('whitegrid')\n",
    "# plt.figure(figsize=(6,4))\n",
    "# weigh_data = pd.DataFrame({ 'score': gscv.cv_results_['mean_test_score'], \n",
    "#                            'weight': (1- weights)})\n",
    "# sns.lineplot(weigh_data['weight'], weigh_data['score'])\n",
    "# plt.xlabel('Weight for class 1')\n",
    "# plt.ylabel('F1 score')\n",
    "# plt.xticks([round(i/10,1) for i in range(0,11,1)])\n",
    "# plt.title('Scoring for different class weights', fontsize=18)"
   ]
  },
  {
   "cell_type": "markdown",
   "id": "36e5e9d8",
   "metadata": {},
   "source": [
    "# Understanding LightGBM Parameters (and How to Tune Them)(lightGBM usually out-perform XGBoost with larger dataset, i.e. over 10,000 rows)\n",
    "\n",
    "https://neptune.ai/blog/lightgbm-parameters-guide"
   ]
  },
  {
   "cell_type": "markdown",
   "id": "d6314b60",
   "metadata": {},
   "source": [
    "## If someone asks you what is the main difference between LightGBM and XGBoost? You can easily say, their difference is in how they are implemented. (lightgbm uses leaf-wise tree growth algorithm whileXGBoost uses depth-wise tree growth. Leaf-wise method allows the trees to converge faster but the chance of over-fitting increases. )"
   ]
  },
  {
   "cell_type": "markdown",
   "id": "e20418d5",
   "metadata": {},
   "source": [
    "## <font color='red'>The most important lightgbm parameters - Summary of content below \n",
    "    \n",
    "- <font color='red'>objective: Set it binary or multiclass for classification\n",
    "- <font color='red'>metric: default is null, meaning metric corresponding to specified objective will be used\n",
    "- <font color='red'>boosting: gbdt, rf, dart, goss. default gbdt works fine most of time\n",
    "- <font color='red'>lambda_l1: default is 0. [0, ∞]\n",
    "- <font color='red'>bagging_fraction(subsample): default is 1. [0, 1]. randomly select part of data without resampling\n",
    "- <font color='red'>bagging_freq: default is 0. [0, ∞]. 0 means disable bagging; k means perform bagging at every k iteration. To enable bagging, bagging_fraction should be set to value smaller than 1.0 as well.\n",
    "- <font color='red'>num_leaves: default is 31. [1, ∞], max number of leaves in one tree.\n",
    "- <font color='red'>feature_fraction: default is 1.0. [0,1],if you set it to 0.8, LightGBM will select 80% of features\n",
    "- <font color='red'>max_depth: default is -1. [-1, ∞]. \n",
    "- <font color='red'>max_bin: default is 255. [2, ∞]\n",
    "- <font color='red'>num_iterations: default is 100. [1, ∞], number of boosting iterations\n",
    "- <font color='red'>learning_rate: default is 0.1. Typical: 0.05\n",
    "- <font color='red'>early_stopping_round: default is 0. [0, ∞], model performance, number of iterations, training time.\n",
    "- <font color='red'>categorical_feature: handle categorical features\n",
    "- <font color='red'>bagging_freq: default is 0. [0, ∞]. 0 means disable bagging; k means perform bagging at every k iteration. to enable bagging, bagging_fraction should be set to value smaller than 1.0 as well.\n",
    "- <font color='red'>min_data_in_leaf: default is 20. min_data. can be used to deal with over-fitting"
   ]
  },
  {
   "cell_type": "markdown",
   "id": "048a3653",
   "metadata": {},
   "source": [
    "### According to lightGBM documentation, when facing  overfitting you may want to do the following parameter tuning: \n",
    "\n",
    "- Use small max_bin\n",
    "- Use small num_leaves\n",
    "- Use min_data_in_leaf and min_sum_hessian_in_leaf\n",
    "- Use bagging by set bagging_fraction and bagging_freq\n",
    "- Use feature sub-sampling by set feature_fraction\n",
    "- Use bigger training data\n",
    "- Try lambda_l1, lambda_l2 and min_gain_to_split for regularization\n",
    "- Try max_depth to avoid growing deep tree"
   ]
  },
  {
   "cell_type": "markdown",
   "id": "b522690a",
   "metadata": {},
   "source": [
    "### Gradient Boosting methods (default is OK)\n",
    "- lgbm gbdt (gradient boosted decision trees): default, stable and reliable\n",
    "- Lgbm dart: better accuracy\n",
    "- Lgbm goss: converge faster"
   ]
  },
  {
   "cell_type": "markdown",
   "id": "e5280aa7",
   "metadata": {},
   "source": [
    "### Regularization Parameters:\n",
    "\n",
    "- **Lambda_l1 (and lambda_l2)**: control to l1/l2 and along with min_gain_to_split are used to combat over-fitting.\n",
    "- **num_leaves**: urely num_leaves is one of the most important parameters that controls the complexity of the model. Large num_leaves increases accuracy on the training set and also the chance of getting hurt by overfitting. According to the documentation, one simple way is that num_leaves = 2^(max_depth). **It is necessary to tune num_leaves with the max_depth together.**\n",
    "- **subsample**: With subsample (or bagging_fraction)  you can specify the percentage of rows used per tree building iteration. That means some rows will be randomly selected for fitting each learner (tree). This improved generalization but also speed of training. **I suggest using smaller subsample values for the baseline models and later increase this value when you are done with other experiments (different feature selections, different tree architecture).**\n",
    "- **feature_fraction**: Feature fraction or sub_feature deals with column sampling, LightGBM will randomly select a subset of features on each iteration (tree). For example, if you set it to 0.6, LightGBM will select 60% of features before training each tree. There are two usage for this feature:\n",
    "    - Can be used to speed up training\n",
    "    - Can be used to deal with overfitting\n",
    "- **max_depth**: This parameter control max depth of each trained tree. If you use a large value of max_depth, your model will likely be over fit  to the train set. It will have impact on: \n",
    "    - The best value for the num_leaves parameter\n",
    "    - Model Performance\n",
    "    - Training Time\n",
    "- **max_bin**: Binning is a technique for representing data in a discrete view(histogram). Lightgbm uses a histogram based algorithm to find the optimal split point while creating a weak learner. Therefore, each continuous numeric feature (e.g. number of views for a video) should be split into discrete bins. If you define max_bin 255 that means we can have a maximum of 255 unique values per feature. Then Small max_bin causes faster speed and large value improves accuracy."
   ]
  },
  {
   "cell_type": "markdown",
   "id": "edae63a8",
   "metadata": {},
   "source": [
    "### Training parameters\n",
    "\n",
    "Training time! When you want to train your model with lightgbm, Some typical issues that may come up when you train lightgbm models are:\n",
    "\n",
    "- Training is a time-consuming process\n",
    "- Dealing with Computational Complexity (CPU/GPU RAM constraints)\n",
    "- Dealing with categorical features\n",
    "- Having an unbalanced dataset\n",
    "- The need for custom metrics\n",
    "- Adjustments that need to be made for Classification or Regression problems\n",
    "- In this section, we will try to explain those points in detail.\n",
    "\n",
    "In this section, we will try to explain those points in detail."
   ]
  },
  {
   "cell_type": "markdown",
   "id": "1a494854",
   "metadata": {},
   "source": [
    "- **num_iterations**: Num_iterations specifies the number of boosting iterations (trees to build). The more trees you build the more accurate your model can be at the cost of:\n",
    "    - Longer training time\n",
    "    - Higher chance of overfitting\n",
    "    - Start with a lower number of trees to build a baseline and increase it later when you want to squeeze the last % out of your model.\n",
    "    - It is recommended to use smaller learning_rate with larger num_iterations. Also, you should use early_stopping_rounds if you go for higher num_iterations to stop your training when it is not learning anything useful.\n",
    "- **early_stopping_rounds**: This parameter will stop training if the validation metric is not improving after the last early stopping round. That should be defined in pair with a number of iterations. If you set it too large you increase the chance of overfitting (but your model can be better). The rule of thumb is to have it at 10% of your num_iterations.\n",
    "- **lightgbm categorical_feature**: One of the advantages of using lightgbm is that it can handle categorical features very well.  \n",
    "- **lightgbm is_unbalance vs scale_pos_weight**: One of the problems you may face in the binary classification problems is how to deal with the unbalanced datasets. Obviously, you need to balance positive/negative samples but how exactly can you do that in lightgbm? There are two parameters in lightgbm that allow you to deal with this issue is_unbalance and scale_pos_weight, but what is the difference between them and How to use them?\n",
    "    - When you set Is_unbalace: True, the algorithm will try to Automatically balance the weight of the dominated label (with the pos/neg fraction in train set)\n",
    "    - If you want change scale_pos_weight (it is by default 1 which mean assume both positive and negative label are equal) in case of unbalance dataset you can use following formula(based on this issue on lightgbm repository) to set it correctly: sample_pos_weight = number of negative samples / number of positive samples\n",
    "- **lgbm feval**: Sometimes you want to define a custom evaluation function to measure the performance of your model you need to create a feval function. "
   ]
  },
  {
   "cell_type": "markdown",
   "id": "644b6189",
   "metadata": {},
   "source": [
    "### classification params vs regression params\n",
    "\n",
    "Note for Classification:\n",
    "\n",
    "- objective: Set it binary or multiclass\n",
    "- metric: Binary_logloss or AUC or etc.\n",
    "- is_unbalance: True or False\n",
    "- scale_pos_weight: used only in binary and multi class applications\n",
    "- num_class: used only in multi-class classification application"
   ]
  },
  {
   "cell_type": "code",
   "execution_count": null,
   "id": "103c1e58",
   "metadata": {},
   "outputs": [],
   "source": []
  },
  {
   "cell_type": "code",
   "execution_count": null,
   "id": "186656e1",
   "metadata": {},
   "outputs": [],
   "source": []
  },
  {
   "cell_type": "code",
   "execution_count": null,
   "id": "313fbe69",
   "metadata": {},
   "outputs": [],
   "source": []
  },
  {
   "cell_type": "code",
   "execution_count": null,
   "id": "a1203c75",
   "metadata": {
    "scrolled": true
   },
   "outputs": [],
   "source": []
  },
  {
   "cell_type": "code",
   "execution_count": null,
   "id": "12693d4a",
   "metadata": {},
   "outputs": [],
   "source": []
  },
  {
   "cell_type": "code",
   "execution_count": null,
   "id": "2fed92d5",
   "metadata": {},
   "outputs": [],
   "source": [
    "# def morgan_fingerprint(smiles:str,radius:int=2,num_bits:int=2048,use_counts:bool = False):\n",
    "#     \"\"\"\n",
    "#     Generates a morgan fingerprint for a smiles string.\n",
    "\n",
    "#     :param smiles: A smiles string for a molecule.\n",
    "#     :param radius: The radius of the fingerprint.\n",
    "#     :param num_bits: The number of bits to use in the fingerprint.\n",
    "#     :param use_counts: Whether to use counts or just a bit vector for the fingerprint\n",
    "#     :return: A 1-D numpy array containing the morgan fingerprint.\n",
    "#     \"\"\"\n",
    "#     if type(smiles) == str:\n",
    "#         mol = Chem.MolFromSmiles(smiles)\n",
    "#     else:\n",
    "#         mol = smiles\n",
    "#     if use_counts:\n",
    "#         fp_vect = AllChem.GetHashedMorganFingerprint(mol, radius, nBits=num_bits)\n",
    "#     else:\n",
    "#         fp_vect = AllChem.GetMorganFingerprintAsBitVect(mol, radius, nBits=num_bits)\n",
    "        \n",
    "#     fp = np.zeros((1,))\n",
    "#     DataStructs.ConvertToNumpyArray(fp_vect, fp)\n",
    "\n",
    "#     return fp "
   ]
  },
  {
   "cell_type": "code",
   "execution_count": null,
   "id": "b9e4dc3a",
   "metadata": {},
   "outputs": [],
   "source": [
    "# def calcFingerprints(smiles):\n",
    "#     m1 = Chem.MolFromSmiles(smiles)\n",
    "#     fp = AllChem.GetMorganFingerprintAsBitVect(m1,2, nBits=2048)\n",
    "#     binary = fp.ToBitString()\n",
    "    \n",
    "#     return list(binary)"
   ]
  },
  {
   "cell_type": "code",
   "execution_count": null,
   "id": "a1f9ca79",
   "metadata": {},
   "outputs": [],
   "source": [
    "# class Fingerprint_Transformer(object):\n",
    "    \n",
    "#     def fit(self, X, y=None):\n",
    "#         pass\n",
    "    \n",
    "#     def transform(self, X, y=None):\n",
    "        \n",
    "#     fp_name = [f'Bit_{i}' for i in range(2048)]\n",
    "# fp_cmpd = []\n",
    "# for smiles in df.SMILES.tolist():\n",
    "#     cmpd = Chem.MolFromSmiles(smiles)\n",
    "#     fp = AllChem.GetMorganFingerprintAsBitVect(cmpd,2, nBits=2048)\n",
    "#     binary = fp.ToBitString()\n",
    "#     fp_cmpd.append(list(binary))    \n",
    "        \n",
    "#   df_fp = pd.DataFrame(fp_cmpd, index = df.SMILES, columns=fp_name)\n",
    "# df_fp.shape      \n",
    "        \n",
    "#         return pd.DataFrame(res)\n",
    "    \n",
    "#     def fit_transform(self, X, y=None):\n",
    "#         self.fit(X)\n",
    "#         return self.transform(X) \n",
    "    \n",
    "#     def calcFingerprints(smiles):\n",
    "#         m1 = Chem.MolFromSmiles(smiles)\n",
    "#         fp = AllChem.GetMorganFingerprintAsBitVect(m1,2, nBits=2048)\n",
    "#         binary = fp.ToBitString()\n",
    "#     return list(binary)"
   ]
  }
 ],
 "metadata": {
  "kernelspec": {
   "display_name": "base",
   "language": "python",
   "name": "python3"
  },
  "language_info": {
   "codemirror_mode": {
    "name": "ipython",
    "version": 3
   },
   "file_extension": ".py",
   "mimetype": "text/x-python",
   "name": "python",
   "nbconvert_exporter": "python",
   "pygments_lexer": "ipython3",
   "version": "3.9.12"
  },
  "vscode": {
   "interpreter": {
    "hash": "e2d285fd8580f84e4b44a53d56c17839c6d3cc6a38ce8a2f22eaa67b37193cca"
   }
  }
 },
 "nbformat": 4,
 "nbformat_minor": 5
}
